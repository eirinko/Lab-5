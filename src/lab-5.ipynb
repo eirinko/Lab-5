{
 "cells": [
  {
   "cell_type": "markdown",
   "metadata": {},
   "source": [
    "# Imports"
   ]
  },
  {
   "cell_type": "code",
   "execution_count": 1,
   "metadata": {},
   "outputs": [
    {
     "name": "stderr",
     "output_type": "stream",
     "text": [
      "c:\\Users\\eirin\\.conda\\envs\\intro-ai\\lib\\site-packages\\xgboost\\compat.py:36: FutureWarning: pandas.Int64Index is deprecated and will be removed from pandas in a future version. Use pandas.Index with the appropriate dtype instead.\n",
      "  from pandas import MultiIndex, Int64Index\n",
      "c:\\Users\\eirin\\.conda\\envs\\intro-ai\\lib\\site-packages\\tqdm\\auto.py:22: TqdmWarning: IProgress not found. Please update jupyter and ipywidgets. See https://ipywidgets.readthedocs.io/en/stable/user_install.html\n",
      "  from .autonotebook import tqdm as notebook_tqdm\n"
     ]
    }
   ],
   "source": [
    "import pandas as pd\n",
    "import numpy as np\n",
    "import xgboost as xgb\n",
    "from sklearn.model_selection import train_test_split, cross_val_score\n",
    "from sklearn.metrics import f1_score, confusion_matrix, ConfusionMatrixDisplay\n",
    "import optuna as opt"
   ]
  },
  {
   "cell_type": "markdown",
   "metadata": {},
   "source": [
    "# Feature Description\n",
    "\n",
    "The table results from a query which joins two tables (actuaclly views): \"PhotoObj\" which contains photometric data and \"SpecObj\" which contains spectral data.\n",
    "\n",
    "To ease your start with the data you can read the feature descriptions below:\n",
    "\n",
    "View \"PhotoObj\"\n",
    "objid = Object Identifier\n",
    "ra = J2000 Right Ascension (r-band)\n",
    "dec = J2000 Declination (r-band)\n",
    "Right ascension (abbreviated RA) is the angular distance measured eastward along the celestial equator from the Sun at the March equinox to the hour circle of the point above the earth in question. When paired with declination (abbreviated dec), these astronomical coordinates specify the direction of a point on the celestial sphere (traditionally called in English the skies or the sky) in the equatorial coordinate system.\n",
    "\n",
    "Source: https://en.wikipedia.org/wiki/Right_ascension\n",
    "\n",
    "* u = better of DeV/Exp magnitude fit\n",
    "* g = better of DeV/Exp magnitude fit\n",
    "* r = better of DeV/Exp magnitude fit\n",
    "* i = better of DeV/Exp magnitude fit\n",
    "* z = better of DeV/Exp magnitude fit\n",
    "\n",
    "The Thuan-Gunn astronomic magnitude system. u, g, r, i, z represent the response of the 5 bands of the telescope.\n",
    "\n",
    "Further education: https://www.astro.umd.edu/~ssm/ASTR620/mags.html\n",
    "\n",
    "run = Run Number\n",
    "rereun = Rerun Number\n",
    "camcol = Camera column\n",
    "field = Field number\n",
    "Run, rerun, camcol and field are features which describe a field within an image taken by the SDSS. A field is basically a part of the entire image corresponding to 2048 by 1489 pixels. A field can be identified by:\n",
    "\n",
    "run number, which identifies the specific scan,\n",
    "the camera column, or \"camcol,\" a number from 1 to 6, identifying the scanline within the run, and\n",
    "the field number. The field number typically starts at 11 (after an initial rampup time), and can be as large as 800 for particularly long runs.\n",
    "An additional number, rerun, specifies how the image was processed.\n",
    "View \"SpecObj\"\n",
    "specobjid = Object Identifier\n",
    "class = object class (galaxy, star or quasar object)\n",
    "The class identifies an object to be either a galaxy, star or quasar. This will be the response variable which we will be trying to predict.\n",
    "\n",
    "redshift = Final Redshift\n",
    "plate = plate number\n",
    "mjd = MJD of observation\n",
    "fiberid = fiber ID\n",
    "In physics, redshift happens when light or other electromagnetic radiation from an object is increased in wavelength, or shifted to the red end of the spectrum.\n",
    "\n",
    "Each spectroscopic exposure employs a large, thin, circular metal plate that positions optical fibers via holes drilled at the locations of the images in the telescope focal plane. These fibers then feed into the spectrographs. Each plate has a unique serial number, which is called plate in views such as SpecObj in the CAS.\n",
    "\n",
    "Modified Julian Date, used to indicate the date that a given piece of SDSS data (image or spectrum) was taken.\n",
    "\n",
    "The SDSS spectrograph uses optical fibers to direct the light at the focal plane from individual objects to the slithead. Each object is assigned a corresponding fiberID.\n",
    "\n",
    "Further information on SDSS images and their attributes:\n",
    "\n",
    "http://www.sdss3.org/dr9/imaging/imaging_basics.php\n",
    "\n",
    "http://www.sdss3.org/dr8/glossary.php\n",
    "\n"
   ]
  },
  {
   "cell_type": "markdown",
   "metadata": {},
   "source": [
    "# Importing the data"
   ]
  },
  {
   "cell_type": "code",
   "execution_count": 2,
   "metadata": {},
   "outputs": [],
   "source": [
    "# Import the data in ./../data/\n",
    "df = pd.read_csv(\"../data/space.csv\")"
   ]
  },
  {
   "cell_type": "markdown",
   "metadata": {},
   "source": [
    "# Data Exploration"
   ]
  },
  {
   "cell_type": "code",
   "execution_count": 3,
   "metadata": {},
   "outputs": [
    {
     "data": {
      "text/html": [
       "<div>\n",
       "<style scoped>\n",
       "    .dataframe tbody tr th:only-of-type {\n",
       "        vertical-align: middle;\n",
       "    }\n",
       "\n",
       "    .dataframe tbody tr th {\n",
       "        vertical-align: top;\n",
       "    }\n",
       "\n",
       "    .dataframe thead th {\n",
       "        text-align: right;\n",
       "    }\n",
       "</style>\n",
       "<table border=\"1\" class=\"dataframe\">\n",
       "  <thead>\n",
       "    <tr style=\"text-align: right;\">\n",
       "      <th></th>\n",
       "      <th>objid</th>\n",
       "      <th>ra</th>\n",
       "      <th>dec</th>\n",
       "      <th>u</th>\n",
       "      <th>g</th>\n",
       "      <th>r</th>\n",
       "      <th>i</th>\n",
       "      <th>z</th>\n",
       "      <th>run</th>\n",
       "      <th>rerun</th>\n",
       "      <th>camcol</th>\n",
       "      <th>field</th>\n",
       "      <th>specobjid</th>\n",
       "      <th>class</th>\n",
       "      <th>redshift</th>\n",
       "      <th>plate</th>\n",
       "      <th>mjd</th>\n",
       "      <th>fiberid</th>\n",
       "    </tr>\n",
       "  </thead>\n",
       "  <tbody>\n",
       "    <tr>\n",
       "      <th>0</th>\n",
       "      <td>1.237650e+18</td>\n",
       "      <td>183.531326</td>\n",
       "      <td>0.089693</td>\n",
       "      <td>19.47406</td>\n",
       "      <td>17.04240</td>\n",
       "      <td>15.94699</td>\n",
       "      <td>15.50342</td>\n",
       "      <td>15.22531</td>\n",
       "      <td>752</td>\n",
       "      <td>301</td>\n",
       "      <td>4</td>\n",
       "      <td>267</td>\n",
       "      <td>3.722360e+18</td>\n",
       "      <td>STAR</td>\n",
       "      <td>-0.000009</td>\n",
       "      <td>3306</td>\n",
       "      <td>54922</td>\n",
       "      <td>491</td>\n",
       "    </tr>\n",
       "    <tr>\n",
       "      <th>1</th>\n",
       "      <td>1.237650e+18</td>\n",
       "      <td>183.598370</td>\n",
       "      <td>0.135285</td>\n",
       "      <td>18.66280</td>\n",
       "      <td>17.21449</td>\n",
       "      <td>16.67637</td>\n",
       "      <td>16.48922</td>\n",
       "      <td>16.39150</td>\n",
       "      <td>752</td>\n",
       "      <td>301</td>\n",
       "      <td>4</td>\n",
       "      <td>267</td>\n",
       "      <td>3.638140e+17</td>\n",
       "      <td>STAR</td>\n",
       "      <td>-0.000055</td>\n",
       "      <td>323</td>\n",
       "      <td>51615</td>\n",
       "      <td>541</td>\n",
       "    </tr>\n",
       "    <tr>\n",
       "      <th>2</th>\n",
       "      <td>1.237650e+18</td>\n",
       "      <td>183.680207</td>\n",
       "      <td>0.126185</td>\n",
       "      <td>19.38298</td>\n",
       "      <td>18.19169</td>\n",
       "      <td>17.47428</td>\n",
       "      <td>17.08732</td>\n",
       "      <td>16.80125</td>\n",
       "      <td>752</td>\n",
       "      <td>301</td>\n",
       "      <td>4</td>\n",
       "      <td>268</td>\n",
       "      <td>3.232740e+17</td>\n",
       "      <td>GALAXY</td>\n",
       "      <td>0.123111</td>\n",
       "      <td>287</td>\n",
       "      <td>52023</td>\n",
       "      <td>513</td>\n",
       "    </tr>\n",
       "    <tr>\n",
       "      <th>3</th>\n",
       "      <td>1.237650e+18</td>\n",
       "      <td>183.870529</td>\n",
       "      <td>0.049911</td>\n",
       "      <td>17.76536</td>\n",
       "      <td>16.60272</td>\n",
       "      <td>16.16116</td>\n",
       "      <td>15.98233</td>\n",
       "      <td>15.90438</td>\n",
       "      <td>752</td>\n",
       "      <td>301</td>\n",
       "      <td>4</td>\n",
       "      <td>269</td>\n",
       "      <td>3.722370e+18</td>\n",
       "      <td>STAR</td>\n",
       "      <td>-0.000111</td>\n",
       "      <td>3306</td>\n",
       "      <td>54922</td>\n",
       "      <td>510</td>\n",
       "    </tr>\n",
       "    <tr>\n",
       "      <th>4</th>\n",
       "      <td>1.237650e+18</td>\n",
       "      <td>183.883288</td>\n",
       "      <td>0.102557</td>\n",
       "      <td>17.55025</td>\n",
       "      <td>16.26342</td>\n",
       "      <td>16.43869</td>\n",
       "      <td>16.55492</td>\n",
       "      <td>16.61326</td>\n",
       "      <td>752</td>\n",
       "      <td>301</td>\n",
       "      <td>4</td>\n",
       "      <td>269</td>\n",
       "      <td>3.722370e+18</td>\n",
       "      <td>STAR</td>\n",
       "      <td>0.000590</td>\n",
       "      <td>3306</td>\n",
       "      <td>54922</td>\n",
       "      <td>512</td>\n",
       "    </tr>\n",
       "  </tbody>\n",
       "</table>\n",
       "</div>"
      ],
      "text/plain": [
       "          objid          ra       dec         u         g         r         i  \\\n",
       "0  1.237650e+18  183.531326  0.089693  19.47406  17.04240  15.94699  15.50342   \n",
       "1  1.237650e+18  183.598370  0.135285  18.66280  17.21449  16.67637  16.48922   \n",
       "2  1.237650e+18  183.680207  0.126185  19.38298  18.19169  17.47428  17.08732   \n",
       "3  1.237650e+18  183.870529  0.049911  17.76536  16.60272  16.16116  15.98233   \n",
       "4  1.237650e+18  183.883288  0.102557  17.55025  16.26342  16.43869  16.55492   \n",
       "\n",
       "          z  run  rerun  camcol  field     specobjid   class  redshift  plate  \\\n",
       "0  15.22531  752    301       4    267  3.722360e+18    STAR -0.000009   3306   \n",
       "1  16.39150  752    301       4    267  3.638140e+17    STAR -0.000055    323   \n",
       "2  16.80125  752    301       4    268  3.232740e+17  GALAXY  0.123111    287   \n",
       "3  15.90438  752    301       4    269  3.722370e+18    STAR -0.000111   3306   \n",
       "4  16.61326  752    301       4    269  3.722370e+18    STAR  0.000590   3306   \n",
       "\n",
       "     mjd  fiberid  \n",
       "0  54922      491  \n",
       "1  51615      541  \n",
       "2  52023      513  \n",
       "3  54922      510  \n",
       "4  54922      512  "
      ]
     },
     "execution_count": 3,
     "metadata": {},
     "output_type": "execute_result"
    }
   ],
   "source": [
    "# Use df.head and df.info to get a feel for the data\n",
    "df.head()"
   ]
  },
  {
   "cell_type": "code",
   "execution_count": 4,
   "metadata": {},
   "outputs": [
    {
     "name": "stdout",
     "output_type": "stream",
     "text": [
      "<class 'pandas.core.frame.DataFrame'>\n",
      "RangeIndex: 10000 entries, 0 to 9999\n",
      "Data columns (total 18 columns):\n",
      " #   Column     Non-Null Count  Dtype  \n",
      "---  ------     --------------  -----  \n",
      " 0   objid      10000 non-null  float64\n",
      " 1   ra         10000 non-null  float64\n",
      " 2   dec        10000 non-null  float64\n",
      " 3   u          10000 non-null  float64\n",
      " 4   g          10000 non-null  float64\n",
      " 5   r          10000 non-null  float64\n",
      " 6   i          10000 non-null  float64\n",
      " 7   z          10000 non-null  float64\n",
      " 8   run        10000 non-null  int64  \n",
      " 9   rerun      10000 non-null  int64  \n",
      " 10  camcol     10000 non-null  int64  \n",
      " 11  field      10000 non-null  int64  \n",
      " 12  specobjid  10000 non-null  float64\n",
      " 13  class      10000 non-null  object \n",
      " 14  redshift   10000 non-null  float64\n",
      " 15  plate      10000 non-null  int64  \n",
      " 16  mjd        10000 non-null  int64  \n",
      " 17  fiberid    10000 non-null  int64  \n",
      "dtypes: float64(10), int64(7), object(1)\n",
      "memory usage: 1.4+ MB\n"
     ]
    }
   ],
   "source": [
    "df.info()"
   ]
  },
  {
   "cell_type": "markdown",
   "metadata": {},
   "source": [
    "# Categorically Encoding \"class\""
   ]
  },
  {
   "cell_type": "code",
   "execution_count": 5,
   "metadata": {},
   "outputs": [],
   "source": [
    "# Use pandas cat.codes to convert the categorical data to numerical data, this is because xgboost only accepts numerical data as \n",
    "# the input in classification problems.\n",
    "\n",
    "df[\"class\"]=df[\"class\"].astype(\"category\").cat.codes"
   ]
  },
  {
   "cell_type": "code",
   "execution_count": 6,
   "metadata": {},
   "outputs": [
    {
     "data": {
      "text/html": [
       "<div>\n",
       "<style scoped>\n",
       "    .dataframe tbody tr th:only-of-type {\n",
       "        vertical-align: middle;\n",
       "    }\n",
       "\n",
       "    .dataframe tbody tr th {\n",
       "        vertical-align: top;\n",
       "    }\n",
       "\n",
       "    .dataframe thead th {\n",
       "        text-align: right;\n",
       "    }\n",
       "</style>\n",
       "<table border=\"1\" class=\"dataframe\">\n",
       "  <thead>\n",
       "    <tr style=\"text-align: right;\">\n",
       "      <th></th>\n",
       "      <th>objid</th>\n",
       "      <th>ra</th>\n",
       "      <th>dec</th>\n",
       "      <th>u</th>\n",
       "      <th>g</th>\n",
       "      <th>r</th>\n",
       "      <th>i</th>\n",
       "      <th>z</th>\n",
       "      <th>run</th>\n",
       "      <th>rerun</th>\n",
       "      <th>camcol</th>\n",
       "      <th>field</th>\n",
       "      <th>specobjid</th>\n",
       "      <th>class</th>\n",
       "      <th>redshift</th>\n",
       "      <th>plate</th>\n",
       "      <th>mjd</th>\n",
       "      <th>fiberid</th>\n",
       "    </tr>\n",
       "  </thead>\n",
       "  <tbody>\n",
       "    <tr>\n",
       "      <th>0</th>\n",
       "      <td>1.237650e+18</td>\n",
       "      <td>183.531326</td>\n",
       "      <td>0.089693</td>\n",
       "      <td>19.47406</td>\n",
       "      <td>17.04240</td>\n",
       "      <td>15.94699</td>\n",
       "      <td>15.50342</td>\n",
       "      <td>15.22531</td>\n",
       "      <td>752</td>\n",
       "      <td>301</td>\n",
       "      <td>4</td>\n",
       "      <td>267</td>\n",
       "      <td>3.722360e+18</td>\n",
       "      <td>2</td>\n",
       "      <td>-0.000009</td>\n",
       "      <td>3306</td>\n",
       "      <td>54922</td>\n",
       "      <td>491</td>\n",
       "    </tr>\n",
       "    <tr>\n",
       "      <th>1</th>\n",
       "      <td>1.237650e+18</td>\n",
       "      <td>183.598370</td>\n",
       "      <td>0.135285</td>\n",
       "      <td>18.66280</td>\n",
       "      <td>17.21449</td>\n",
       "      <td>16.67637</td>\n",
       "      <td>16.48922</td>\n",
       "      <td>16.39150</td>\n",
       "      <td>752</td>\n",
       "      <td>301</td>\n",
       "      <td>4</td>\n",
       "      <td>267</td>\n",
       "      <td>3.638140e+17</td>\n",
       "      <td>2</td>\n",
       "      <td>-0.000055</td>\n",
       "      <td>323</td>\n",
       "      <td>51615</td>\n",
       "      <td>541</td>\n",
       "    </tr>\n",
       "    <tr>\n",
       "      <th>2</th>\n",
       "      <td>1.237650e+18</td>\n",
       "      <td>183.680207</td>\n",
       "      <td>0.126185</td>\n",
       "      <td>19.38298</td>\n",
       "      <td>18.19169</td>\n",
       "      <td>17.47428</td>\n",
       "      <td>17.08732</td>\n",
       "      <td>16.80125</td>\n",
       "      <td>752</td>\n",
       "      <td>301</td>\n",
       "      <td>4</td>\n",
       "      <td>268</td>\n",
       "      <td>3.232740e+17</td>\n",
       "      <td>0</td>\n",
       "      <td>0.123111</td>\n",
       "      <td>287</td>\n",
       "      <td>52023</td>\n",
       "      <td>513</td>\n",
       "    </tr>\n",
       "    <tr>\n",
       "      <th>3</th>\n",
       "      <td>1.237650e+18</td>\n",
       "      <td>183.870529</td>\n",
       "      <td>0.049911</td>\n",
       "      <td>17.76536</td>\n",
       "      <td>16.60272</td>\n",
       "      <td>16.16116</td>\n",
       "      <td>15.98233</td>\n",
       "      <td>15.90438</td>\n",
       "      <td>752</td>\n",
       "      <td>301</td>\n",
       "      <td>4</td>\n",
       "      <td>269</td>\n",
       "      <td>3.722370e+18</td>\n",
       "      <td>2</td>\n",
       "      <td>-0.000111</td>\n",
       "      <td>3306</td>\n",
       "      <td>54922</td>\n",
       "      <td>510</td>\n",
       "    </tr>\n",
       "    <tr>\n",
       "      <th>4</th>\n",
       "      <td>1.237650e+18</td>\n",
       "      <td>183.883288</td>\n",
       "      <td>0.102557</td>\n",
       "      <td>17.55025</td>\n",
       "      <td>16.26342</td>\n",
       "      <td>16.43869</td>\n",
       "      <td>16.55492</td>\n",
       "      <td>16.61326</td>\n",
       "      <td>752</td>\n",
       "      <td>301</td>\n",
       "      <td>4</td>\n",
       "      <td>269</td>\n",
       "      <td>3.722370e+18</td>\n",
       "      <td>2</td>\n",
       "      <td>0.000590</td>\n",
       "      <td>3306</td>\n",
       "      <td>54922</td>\n",
       "      <td>512</td>\n",
       "    </tr>\n",
       "  </tbody>\n",
       "</table>\n",
       "</div>"
      ],
      "text/plain": [
       "          objid          ra       dec         u         g         r         i  \\\n",
       "0  1.237650e+18  183.531326  0.089693  19.47406  17.04240  15.94699  15.50342   \n",
       "1  1.237650e+18  183.598370  0.135285  18.66280  17.21449  16.67637  16.48922   \n",
       "2  1.237650e+18  183.680207  0.126185  19.38298  18.19169  17.47428  17.08732   \n",
       "3  1.237650e+18  183.870529  0.049911  17.76536  16.60272  16.16116  15.98233   \n",
       "4  1.237650e+18  183.883288  0.102557  17.55025  16.26342  16.43869  16.55492   \n",
       "\n",
       "          z  run  rerun  camcol  field     specobjid  class  redshift  plate  \\\n",
       "0  15.22531  752    301       4    267  3.722360e+18      2 -0.000009   3306   \n",
       "1  16.39150  752    301       4    267  3.638140e+17      2 -0.000055    323   \n",
       "2  16.80125  752    301       4    268  3.232740e+17      0  0.123111    287   \n",
       "3  15.90438  752    301       4    269  3.722370e+18      2 -0.000111   3306   \n",
       "4  16.61326  752    301       4    269  3.722370e+18      2  0.000590   3306   \n",
       "\n",
       "     mjd  fiberid  \n",
       "0  54922      491  \n",
       "1  51615      541  \n",
       "2  52023      513  \n",
       "3  54922      510  \n",
       "4  54922      512  "
      ]
     },
     "execution_count": 6,
     "metadata": {},
     "output_type": "execute_result"
    }
   ],
   "source": [
    "df.head()"
   ]
  },
  {
   "cell_type": "code",
   "execution_count": 7,
   "metadata": {},
   "outputs": [],
   "source": [
    "# Define X and y\n",
    "X = df.drop(columns=\"class\")\n",
    "y = df[\"class\"]\n"
   ]
  },
  {
   "cell_type": "markdown",
   "metadata": {},
   "source": [
    "# Train_test_split "
   ]
  },
  {
   "cell_type": "code",
   "execution_count": 8,
   "metadata": {},
   "outputs": [],
   "source": [
    "# Split the data into train and test sets with test_size=0.2 and random_state=42\n",
    "X_train, X_test, y_train, y_test = train_test_split(X, y, test_size=0.2, random_state=42)"
   ]
  },
  {
   "cell_type": "markdown",
   "metadata": {},
   "source": [
    "# Optuna hyperparameter optimalization with cross-validation"
   ]
  },
  {
   "cell_type": "code",
   "execution_count": 9,
   "metadata": {},
   "outputs": [],
   "source": [
    "def objective(trial):\n",
    "    param = {\n",
    "            \"n_estimators\" : trial.suggest_int('n_estimators', 0, 1000),\n",
    "            'max_depth':trial.suggest_int('max_depth', 2, 25),\n",
    "            'reg_alpha':trial.suggest_int('reg_alpha', 0, 5),\n",
    "            'reg_lambda':trial.suggest_int('reg_lambda', 0, 5),\n",
    "            'min_child_weight':trial.suggest_int('min_child_weight', 0, 5),\n",
    "            'gamma':trial.suggest_int('gamma', 0, 5),\n",
    "            'learning_rate':trial.suggest_loguniform('learning_rate',0.005,0.5),\n",
    "            'colsample_bytree':trial.suggest_discrete_uniform('colsample_bytree',0.1,1,0.01),\n",
    "            'nthread' : -1\n",
    "        }\n",
    "\n",
    "    model = xgb.XGBClassifier(**param)\n",
    "    score = cross_val_score(model, X_train, y_train, cv=5, scoring='f1_macro') \n",
    "    return score.mean()\n",
    "    "
   ]
  },
  {
   "cell_type": "code",
   "execution_count": 13,
   "metadata": {},
   "outputs": [
    {
     "name": "stderr",
     "output_type": "stream",
     "text": [
      "\u001b[32m[I 2022-10-13 12:49:40,107]\u001b[0m A new study created in memory with name: no-name-8c6d0695-7015-4eea-aa8b-976153837a68\u001b[0m\n",
      "C:\\Users\\eirin\\AppData\\Local\\Temp\\ipykernel_6004\\1596821872.py:9: FutureWarning: suggest_loguniform has been deprecated in v3.0.0. This feature will be removed in v6.0.0. See https://github.com/optuna/optuna/releases/tag/v3.0.0. Use :func:`~optuna.trial.Trial.suggest_float` instead.\n",
      "  'learning_rate':trial.suggest_loguniform('learning_rate',0.005,0.5),\n",
      "C:\\Users\\eirin\\AppData\\Local\\Temp\\ipykernel_6004\\1596821872.py:10: FutureWarning: suggest_discrete_uniform has been deprecated in v3.0.0. This feature will be removed in v6.0.0. See https://github.com/optuna/optuna/releases/tag/v3.0.0. Use :func:`~optuna.trial.Trial.suggest_float` instead.\n",
      "  'colsample_bytree':trial.suggest_discrete_uniform('colsample_bytree',0.1,1,0.01),\n",
      "c:\\Users\\eirin\\.conda\\envs\\intro-ai\\lib\\site-packages\\xgboost\\sklearn.py:1224: UserWarning: The use of label encoder in XGBClassifier is deprecated and will be removed in a future release. To remove this warning, do the following: 1) Pass option use_label_encoder=False when constructing XGBClassifier object; and 2) Encode your labels (y) as integers starting with 0, i.e. 0, 1, 2, ..., [num_class - 1].\n",
      "  warnings.warn(label_encoder_deprecation_msg, UserWarning)\n",
      "c:\\Users\\eirin\\.conda\\envs\\intro-ai\\lib\\site-packages\\xgboost\\data.py:250: FutureWarning: pandas.Int64Index is deprecated and will be removed from pandas in a future version. Use pandas.Index with the appropriate dtype instead.\n",
      "  elif isinstance(data.columns, (pd.Int64Index, pd.RangeIndex)):\n"
     ]
    },
    {
     "name": "stdout",
     "output_type": "stream",
     "text": [
      "[12:49:40] WARNING: C:\\Windows\\Temp\\abs_557yfx631l\\croots\\recipe\\xgboost-split_1659548953302\\work\\src\\learner.cc:1115: Starting in XGBoost 1.3.0, the default evaluation metric used with the objective 'multi:softprob' was changed from 'merror' to 'mlogloss'. Explicitly set eval_metric if you'd like to restore the old behavior.\n"
     ]
    },
    {
     "name": "stderr",
     "output_type": "stream",
     "text": [
      "c:\\Users\\eirin\\.conda\\envs\\intro-ai\\lib\\site-packages\\xgboost\\sklearn.py:1224: UserWarning: The use of label encoder in XGBClassifier is deprecated and will be removed in a future release. To remove this warning, do the following: 1) Pass option use_label_encoder=False when constructing XGBClassifier object; and 2) Encode your labels (y) as integers starting with 0, i.e. 0, 1, 2, ..., [num_class - 1].\n",
      "  warnings.warn(label_encoder_deprecation_msg, UserWarning)\n",
      "c:\\Users\\eirin\\.conda\\envs\\intro-ai\\lib\\site-packages\\xgboost\\data.py:250: FutureWarning: pandas.Int64Index is deprecated and will be removed from pandas in a future version. Use pandas.Index with the appropriate dtype instead.\n",
      "  elif isinstance(data.columns, (pd.Int64Index, pd.RangeIndex)):\n"
     ]
    },
    {
     "name": "stdout",
     "output_type": "stream",
     "text": [
      "[12:49:40] WARNING: C:\\Windows\\Temp\\abs_557yfx631l\\croots\\recipe\\xgboost-split_1659548953302\\work\\src\\learner.cc:1115: Starting in XGBoost 1.3.0, the default evaluation metric used with the objective 'multi:softprob' was changed from 'merror' to 'mlogloss'. Explicitly set eval_metric if you'd like to restore the old behavior.\n"
     ]
    },
    {
     "name": "stderr",
     "output_type": "stream",
     "text": [
      "c:\\Users\\eirin\\.conda\\envs\\intro-ai\\lib\\site-packages\\xgboost\\sklearn.py:1224: UserWarning: The use of label encoder in XGBClassifier is deprecated and will be removed in a future release. To remove this warning, do the following: 1) Pass option use_label_encoder=False when constructing XGBClassifier object; and 2) Encode your labels (y) as integers starting with 0, i.e. 0, 1, 2, ..., [num_class - 1].\n",
      "  warnings.warn(label_encoder_deprecation_msg, UserWarning)\n",
      "c:\\Users\\eirin\\.conda\\envs\\intro-ai\\lib\\site-packages\\xgboost\\data.py:250: FutureWarning: pandas.Int64Index is deprecated and will be removed from pandas in a future version. Use pandas.Index with the appropriate dtype instead.\n",
      "  elif isinstance(data.columns, (pd.Int64Index, pd.RangeIndex)):\n"
     ]
    },
    {
     "name": "stdout",
     "output_type": "stream",
     "text": [
      "[12:49:41] WARNING: C:\\Windows\\Temp\\abs_557yfx631l\\croots\\recipe\\xgboost-split_1659548953302\\work\\src\\learner.cc:1115: Starting in XGBoost 1.3.0, the default evaluation metric used with the objective 'multi:softprob' was changed from 'merror' to 'mlogloss'. Explicitly set eval_metric if you'd like to restore the old behavior.\n"
     ]
    },
    {
     "name": "stderr",
     "output_type": "stream",
     "text": [
      "c:\\Users\\eirin\\.conda\\envs\\intro-ai\\lib\\site-packages\\xgboost\\sklearn.py:1224: UserWarning: The use of label encoder in XGBClassifier is deprecated and will be removed in a future release. To remove this warning, do the following: 1) Pass option use_label_encoder=False when constructing XGBClassifier object; and 2) Encode your labels (y) as integers starting with 0, i.e. 0, 1, 2, ..., [num_class - 1].\n",
      "  warnings.warn(label_encoder_deprecation_msg, UserWarning)\n",
      "c:\\Users\\eirin\\.conda\\envs\\intro-ai\\lib\\site-packages\\xgboost\\data.py:250: FutureWarning: pandas.Int64Index is deprecated and will be removed from pandas in a future version. Use pandas.Index with the appropriate dtype instead.\n",
      "  elif isinstance(data.columns, (pd.Int64Index, pd.RangeIndex)):\n"
     ]
    },
    {
     "name": "stdout",
     "output_type": "stream",
     "text": [
      "[12:49:42] WARNING: C:\\Windows\\Temp\\abs_557yfx631l\\croots\\recipe\\xgboost-split_1659548953302\\work\\src\\learner.cc:1115: Starting in XGBoost 1.3.0, the default evaluation metric used with the objective 'multi:softprob' was changed from 'merror' to 'mlogloss'. Explicitly set eval_metric if you'd like to restore the old behavior.\n"
     ]
    },
    {
     "name": "stderr",
     "output_type": "stream",
     "text": [
      "c:\\Users\\eirin\\.conda\\envs\\intro-ai\\lib\\site-packages\\xgboost\\sklearn.py:1224: UserWarning: The use of label encoder in XGBClassifier is deprecated and will be removed in a future release. To remove this warning, do the following: 1) Pass option use_label_encoder=False when constructing XGBClassifier object; and 2) Encode your labels (y) as integers starting with 0, i.e. 0, 1, 2, ..., [num_class - 1].\n",
      "  warnings.warn(label_encoder_deprecation_msg, UserWarning)\n",
      "c:\\Users\\eirin\\.conda\\envs\\intro-ai\\lib\\site-packages\\xgboost\\data.py:250: FutureWarning: pandas.Int64Index is deprecated and will be removed from pandas in a future version. Use pandas.Index with the appropriate dtype instead.\n",
      "  elif isinstance(data.columns, (pd.Int64Index, pd.RangeIndex)):\n"
     ]
    },
    {
     "name": "stdout",
     "output_type": "stream",
     "text": [
      "[12:49:42] WARNING: C:\\Windows\\Temp\\abs_557yfx631l\\croots\\recipe\\xgboost-split_1659548953302\\work\\src\\learner.cc:1115: Starting in XGBoost 1.3.0, the default evaluation metric used with the objective 'multi:softprob' was changed from 'merror' to 'mlogloss'. Explicitly set eval_metric if you'd like to restore the old behavior.\n"
     ]
    },
    {
     "name": "stderr",
     "output_type": "stream",
     "text": [
      "\u001b[32m[I 2022-10-13 12:49:43,541]\u001b[0m Trial 0 finished with value: 0.9751494757549501 and parameters: {'n_estimators': 43, 'max_depth': 9, 'reg_alpha': 3, 'reg_lambda': 2, 'min_child_weight': 2, 'gamma': 0, 'learning_rate': 0.007487528696139096, 'colsample_bytree': 0.5}. Best is trial 0 with value: 0.9751494757549501.\u001b[0m\n",
      "C:\\Users\\eirin\\AppData\\Local\\Temp\\ipykernel_6004\\1596821872.py:9: FutureWarning: suggest_loguniform has been deprecated in v3.0.0. This feature will be removed in v6.0.0. See https://github.com/optuna/optuna/releases/tag/v3.0.0. Use :func:`~optuna.trial.Trial.suggest_float` instead.\n",
      "  'learning_rate':trial.suggest_loguniform('learning_rate',0.005,0.5),\n",
      "C:\\Users\\eirin\\AppData\\Local\\Temp\\ipykernel_6004\\1596821872.py:10: FutureWarning: suggest_discrete_uniform has been deprecated in v3.0.0. This feature will be removed in v6.0.0. See https://github.com/optuna/optuna/releases/tag/v3.0.0. Use :func:`~optuna.trial.Trial.suggest_float` instead.\n",
      "  'colsample_bytree':trial.suggest_discrete_uniform('colsample_bytree',0.1,1,0.01),\n",
      "c:\\Users\\eirin\\.conda\\envs\\intro-ai\\lib\\site-packages\\xgboost\\sklearn.py:1224: UserWarning: The use of label encoder in XGBClassifier is deprecated and will be removed in a future release. To remove this warning, do the following: 1) Pass option use_label_encoder=False when constructing XGBClassifier object; and 2) Encode your labels (y) as integers starting with 0, i.e. 0, 1, 2, ..., [num_class - 1].\n",
      "  warnings.warn(label_encoder_deprecation_msg, UserWarning)\n",
      "c:\\Users\\eirin\\.conda\\envs\\intro-ai\\lib\\site-packages\\xgboost\\data.py:250: FutureWarning: pandas.Int64Index is deprecated and will be removed from pandas in a future version. Use pandas.Index with the appropriate dtype instead.\n",
      "  elif isinstance(data.columns, (pd.Int64Index, pd.RangeIndex)):\n"
     ]
    },
    {
     "name": "stdout",
     "output_type": "stream",
     "text": [
      "[12:49:43] WARNING: C:\\Windows\\Temp\\abs_557yfx631l\\croots\\recipe\\xgboost-split_1659548953302\\work\\src\\learner.cc:1115: Starting in XGBoost 1.3.0, the default evaluation metric used with the objective 'multi:softprob' was changed from 'merror' to 'mlogloss'. Explicitly set eval_metric if you'd like to restore the old behavior.\n"
     ]
    },
    {
     "name": "stderr",
     "output_type": "stream",
     "text": [
      "c:\\Users\\eirin\\.conda\\envs\\intro-ai\\lib\\site-packages\\xgboost\\sklearn.py:1224: UserWarning: The use of label encoder in XGBClassifier is deprecated and will be removed in a future release. To remove this warning, do the following: 1) Pass option use_label_encoder=False when constructing XGBClassifier object; and 2) Encode your labels (y) as integers starting with 0, i.e. 0, 1, 2, ..., [num_class - 1].\n",
      "  warnings.warn(label_encoder_deprecation_msg, UserWarning)\n",
      "c:\\Users\\eirin\\.conda\\envs\\intro-ai\\lib\\site-packages\\xgboost\\data.py:250: FutureWarning: pandas.Int64Index is deprecated and will be removed from pandas in a future version. Use pandas.Index with the appropriate dtype instead.\n",
      "  elif isinstance(data.columns, (pd.Int64Index, pd.RangeIndex)):\n"
     ]
    },
    {
     "name": "stdout",
     "output_type": "stream",
     "text": [
      "[12:49:50] WARNING: C:\\Windows\\Temp\\abs_557yfx631l\\croots\\recipe\\xgboost-split_1659548953302\\work\\src\\learner.cc:1115: Starting in XGBoost 1.3.0, the default evaluation metric used with the objective 'multi:softprob' was changed from 'merror' to 'mlogloss'. Explicitly set eval_metric if you'd like to restore the old behavior.\n"
     ]
    },
    {
     "name": "stderr",
     "output_type": "stream",
     "text": [
      "c:\\Users\\eirin\\.conda\\envs\\intro-ai\\lib\\site-packages\\xgboost\\sklearn.py:1224: UserWarning: The use of label encoder in XGBClassifier is deprecated and will be removed in a future release. To remove this warning, do the following: 1) Pass option use_label_encoder=False when constructing XGBClassifier object; and 2) Encode your labels (y) as integers starting with 0, i.e. 0, 1, 2, ..., [num_class - 1].\n",
      "  warnings.warn(label_encoder_deprecation_msg, UserWarning)\n",
      "c:\\Users\\eirin\\.conda\\envs\\intro-ai\\lib\\site-packages\\xgboost\\data.py:250: FutureWarning: pandas.Int64Index is deprecated and will be removed from pandas in a future version. Use pandas.Index with the appropriate dtype instead.\n",
      "  elif isinstance(data.columns, (pd.Int64Index, pd.RangeIndex)):\n"
     ]
    },
    {
     "name": "stdout",
     "output_type": "stream",
     "text": [
      "[12:49:57] WARNING: C:\\Windows\\Temp\\abs_557yfx631l\\croots\\recipe\\xgboost-split_1659548953302\\work\\src\\learner.cc:1115: Starting in XGBoost 1.3.0, the default evaluation metric used with the objective 'multi:softprob' was changed from 'merror' to 'mlogloss'. Explicitly set eval_metric if you'd like to restore the old behavior.\n"
     ]
    },
    {
     "name": "stderr",
     "output_type": "stream",
     "text": [
      "c:\\Users\\eirin\\.conda\\envs\\intro-ai\\lib\\site-packages\\xgboost\\sklearn.py:1224: UserWarning: The use of label encoder in XGBClassifier is deprecated and will be removed in a future release. To remove this warning, do the following: 1) Pass option use_label_encoder=False when constructing XGBClassifier object; and 2) Encode your labels (y) as integers starting with 0, i.e. 0, 1, 2, ..., [num_class - 1].\n",
      "  warnings.warn(label_encoder_deprecation_msg, UserWarning)\n",
      "c:\\Users\\eirin\\.conda\\envs\\intro-ai\\lib\\site-packages\\xgboost\\data.py:250: FutureWarning: pandas.Int64Index is deprecated and will be removed from pandas in a future version. Use pandas.Index with the appropriate dtype instead.\n",
      "  elif isinstance(data.columns, (pd.Int64Index, pd.RangeIndex)):\n"
     ]
    },
    {
     "name": "stdout",
     "output_type": "stream",
     "text": [
      "[12:50:04] WARNING: C:\\Windows\\Temp\\abs_557yfx631l\\croots\\recipe\\xgboost-split_1659548953302\\work\\src\\learner.cc:1115: Starting in XGBoost 1.3.0, the default evaluation metric used with the objective 'multi:softprob' was changed from 'merror' to 'mlogloss'. Explicitly set eval_metric if you'd like to restore the old behavior.\n"
     ]
    },
    {
     "name": "stderr",
     "output_type": "stream",
     "text": [
      "c:\\Users\\eirin\\.conda\\envs\\intro-ai\\lib\\site-packages\\xgboost\\sklearn.py:1224: UserWarning: The use of label encoder in XGBClassifier is deprecated and will be removed in a future release. To remove this warning, do the following: 1) Pass option use_label_encoder=False when constructing XGBClassifier object; and 2) Encode your labels (y) as integers starting with 0, i.e. 0, 1, 2, ..., [num_class - 1].\n",
      "  warnings.warn(label_encoder_deprecation_msg, UserWarning)\n",
      "c:\\Users\\eirin\\.conda\\envs\\intro-ai\\lib\\site-packages\\xgboost\\data.py:250: FutureWarning: pandas.Int64Index is deprecated and will be removed from pandas in a future version. Use pandas.Index with the appropriate dtype instead.\n",
      "  elif isinstance(data.columns, (pd.Int64Index, pd.RangeIndex)):\n"
     ]
    },
    {
     "name": "stdout",
     "output_type": "stream",
     "text": [
      "[12:50:11] WARNING: C:\\Windows\\Temp\\abs_557yfx631l\\croots\\recipe\\xgboost-split_1659548953302\\work\\src\\learner.cc:1115: Starting in XGBoost 1.3.0, the default evaluation metric used with the objective 'multi:softprob' was changed from 'merror' to 'mlogloss'. Explicitly set eval_metric if you'd like to restore the old behavior.\n"
     ]
    },
    {
     "name": "stderr",
     "output_type": "stream",
     "text": [
      "\u001b[32m[I 2022-10-13 12:50:18,185]\u001b[0m Trial 1 finished with value: 0.9788986741029675 and parameters: {'n_estimators': 620, 'max_depth': 22, 'reg_alpha': 0, 'reg_lambda': 2, 'min_child_weight': 1, 'gamma': 0, 'learning_rate': 0.09891873190686779, 'colsample_bytree': 0.33}. Best is trial 1 with value: 0.9788986741029675.\u001b[0m\n",
      "C:\\Users\\eirin\\AppData\\Local\\Temp\\ipykernel_6004\\1596821872.py:9: FutureWarning: suggest_loguniform has been deprecated in v3.0.0. This feature will be removed in v6.0.0. See https://github.com/optuna/optuna/releases/tag/v3.0.0. Use :func:`~optuna.trial.Trial.suggest_float` instead.\n",
      "  'learning_rate':trial.suggest_loguniform('learning_rate',0.005,0.5),\n",
      "C:\\Users\\eirin\\AppData\\Local\\Temp\\ipykernel_6004\\1596821872.py:10: FutureWarning: suggest_discrete_uniform has been deprecated in v3.0.0. This feature will be removed in v6.0.0. See https://github.com/optuna/optuna/releases/tag/v3.0.0. Use :func:`~optuna.trial.Trial.suggest_float` instead.\n",
      "  'colsample_bytree':trial.suggest_discrete_uniform('colsample_bytree',0.1,1,0.01),\n",
      "c:\\Users\\eirin\\.conda\\envs\\intro-ai\\lib\\site-packages\\xgboost\\sklearn.py:1224: UserWarning: The use of label encoder in XGBClassifier is deprecated and will be removed in a future release. To remove this warning, do the following: 1) Pass option use_label_encoder=False when constructing XGBClassifier object; and 2) Encode your labels (y) as integers starting with 0, i.e. 0, 1, 2, ..., [num_class - 1].\n",
      "  warnings.warn(label_encoder_deprecation_msg, UserWarning)\n",
      "c:\\Users\\eirin\\.conda\\envs\\intro-ai\\lib\\site-packages\\xgboost\\data.py:250: FutureWarning: pandas.Int64Index is deprecated and will be removed from pandas in a future version. Use pandas.Index with the appropriate dtype instead.\n",
      "  elif isinstance(data.columns, (pd.Int64Index, pd.RangeIndex)):\n"
     ]
    },
    {
     "name": "stdout",
     "output_type": "stream",
     "text": [
      "[12:50:18] WARNING: C:\\Windows\\Temp\\abs_557yfx631l\\croots\\recipe\\xgboost-split_1659548953302\\work\\src\\learner.cc:1115: Starting in XGBoost 1.3.0, the default evaluation metric used with the objective 'multi:softprob' was changed from 'merror' to 'mlogloss'. Explicitly set eval_metric if you'd like to restore the old behavior.\n"
     ]
    },
    {
     "name": "stderr",
     "output_type": "stream",
     "text": [
      "c:\\Users\\eirin\\.conda\\envs\\intro-ai\\lib\\site-packages\\xgboost\\sklearn.py:1224: UserWarning: The use of label encoder in XGBClassifier is deprecated and will be removed in a future release. To remove this warning, do the following: 1) Pass option use_label_encoder=False when constructing XGBClassifier object; and 2) Encode your labels (y) as integers starting with 0, i.e. 0, 1, 2, ..., [num_class - 1].\n",
      "  warnings.warn(label_encoder_deprecation_msg, UserWarning)\n",
      "c:\\Users\\eirin\\.conda\\envs\\intro-ai\\lib\\site-packages\\xgboost\\data.py:250: FutureWarning: pandas.Int64Index is deprecated and will be removed from pandas in a future version. Use pandas.Index with the appropriate dtype instead.\n",
      "  elif isinstance(data.columns, (pd.Int64Index, pd.RangeIndex)):\n"
     ]
    },
    {
     "name": "stdout",
     "output_type": "stream",
     "text": [
      "[12:50:18] WARNING: C:\\Windows\\Temp\\abs_557yfx631l\\croots\\recipe\\xgboost-split_1659548953302\\work\\src\\learner.cc:1115: Starting in XGBoost 1.3.0, the default evaluation metric used with the objective 'multi:softprob' was changed from 'merror' to 'mlogloss'. Explicitly set eval_metric if you'd like to restore the old behavior.\n"
     ]
    },
    {
     "name": "stderr",
     "output_type": "stream",
     "text": [
      "c:\\Users\\eirin\\.conda\\envs\\intro-ai\\lib\\site-packages\\xgboost\\sklearn.py:1224: UserWarning: The use of label encoder in XGBClassifier is deprecated and will be removed in a future release. To remove this warning, do the following: 1) Pass option use_label_encoder=False when constructing XGBClassifier object; and 2) Encode your labels (y) as integers starting with 0, i.e. 0, 1, 2, ..., [num_class - 1].\n",
      "  warnings.warn(label_encoder_deprecation_msg, UserWarning)\n",
      "c:\\Users\\eirin\\.conda\\envs\\intro-ai\\lib\\site-packages\\xgboost\\data.py:250: FutureWarning: pandas.Int64Index is deprecated and will be removed from pandas in a future version. Use pandas.Index with the appropriate dtype instead.\n",
      "  elif isinstance(data.columns, (pd.Int64Index, pd.RangeIndex)):\n"
     ]
    },
    {
     "name": "stdout",
     "output_type": "stream",
     "text": [
      "[12:50:19] WARNING: C:\\Windows\\Temp\\abs_557yfx631l\\croots\\recipe\\xgboost-split_1659548953302\\work\\src\\learner.cc:1115: Starting in XGBoost 1.3.0, the default evaluation metric used with the objective 'multi:softprob' was changed from 'merror' to 'mlogloss'. Explicitly set eval_metric if you'd like to restore the old behavior.\n"
     ]
    },
    {
     "name": "stderr",
     "output_type": "stream",
     "text": [
      "c:\\Users\\eirin\\.conda\\envs\\intro-ai\\lib\\site-packages\\xgboost\\sklearn.py:1224: UserWarning: The use of label encoder in XGBClassifier is deprecated and will be removed in a future release. To remove this warning, do the following: 1) Pass option use_label_encoder=False when constructing XGBClassifier object; and 2) Encode your labels (y) as integers starting with 0, i.e. 0, 1, 2, ..., [num_class - 1].\n",
      "  warnings.warn(label_encoder_deprecation_msg, UserWarning)\n",
      "c:\\Users\\eirin\\.conda\\envs\\intro-ai\\lib\\site-packages\\xgboost\\data.py:250: FutureWarning: pandas.Int64Index is deprecated and will be removed from pandas in a future version. Use pandas.Index with the appropriate dtype instead.\n",
      "  elif isinstance(data.columns, (pd.Int64Index, pd.RangeIndex)):\n"
     ]
    },
    {
     "name": "stdout",
     "output_type": "stream",
     "text": [
      "[12:50:19] WARNING: C:\\Windows\\Temp\\abs_557yfx631l\\croots\\recipe\\xgboost-split_1659548953302\\work\\src\\learner.cc:1115: Starting in XGBoost 1.3.0, the default evaluation metric used with the objective 'multi:softprob' was changed from 'merror' to 'mlogloss'. Explicitly set eval_metric if you'd like to restore the old behavior.\n"
     ]
    },
    {
     "name": "stderr",
     "output_type": "stream",
     "text": [
      "c:\\Users\\eirin\\.conda\\envs\\intro-ai\\lib\\site-packages\\xgboost\\sklearn.py:1224: UserWarning: The use of label encoder in XGBClassifier is deprecated and will be removed in a future release. To remove this warning, do the following: 1) Pass option use_label_encoder=False when constructing XGBClassifier object; and 2) Encode your labels (y) as integers starting with 0, i.e. 0, 1, 2, ..., [num_class - 1].\n",
      "  warnings.warn(label_encoder_deprecation_msg, UserWarning)\n",
      "c:\\Users\\eirin\\.conda\\envs\\intro-ai\\lib\\site-packages\\xgboost\\data.py:250: FutureWarning: pandas.Int64Index is deprecated and will be removed from pandas in a future version. Use pandas.Index with the appropriate dtype instead.\n",
      "  elif isinstance(data.columns, (pd.Int64Index, pd.RangeIndex)):\n"
     ]
    },
    {
     "name": "stdout",
     "output_type": "stream",
     "text": [
      "[12:50:19] WARNING: C:\\Windows\\Temp\\abs_557yfx631l\\croots\\recipe\\xgboost-split_1659548953302\\work\\src\\learner.cc:1115: Starting in XGBoost 1.3.0, the default evaluation metric used with the objective 'multi:softprob' was changed from 'merror' to 'mlogloss'. Explicitly set eval_metric if you'd like to restore the old behavior.\n"
     ]
    },
    {
     "name": "stderr",
     "output_type": "stream",
     "text": [
      "\u001b[32m[I 2022-10-13 12:50:20,245]\u001b[0m Trial 2 finished with value: 0.9584346606085393 and parameters: {'n_estimators': 27, 'max_depth': 22, 'reg_alpha': 4, 'reg_lambda': 3, 'min_child_weight': 3, 'gamma': 3, 'learning_rate': 0.37167871527022106, 'colsample_bytree': 0.13}. Best is trial 1 with value: 0.9788986741029675.\u001b[0m\n",
      "C:\\Users\\eirin\\AppData\\Local\\Temp\\ipykernel_6004\\1596821872.py:9: FutureWarning: suggest_loguniform has been deprecated in v3.0.0. This feature will be removed in v6.0.0. See https://github.com/optuna/optuna/releases/tag/v3.0.0. Use :func:`~optuna.trial.Trial.suggest_float` instead.\n",
      "  'learning_rate':trial.suggest_loguniform('learning_rate',0.005,0.5),\n",
      "C:\\Users\\eirin\\AppData\\Local\\Temp\\ipykernel_6004\\1596821872.py:10: FutureWarning: suggest_discrete_uniform has been deprecated in v3.0.0. This feature will be removed in v6.0.0. See https://github.com/optuna/optuna/releases/tag/v3.0.0. Use :func:`~optuna.trial.Trial.suggest_float` instead.\n",
      "  'colsample_bytree':trial.suggest_discrete_uniform('colsample_bytree',0.1,1,0.01),\n",
      "c:\\Users\\eirin\\.conda\\envs\\intro-ai\\lib\\site-packages\\xgboost\\sklearn.py:1224: UserWarning: The use of label encoder in XGBClassifier is deprecated and will be removed in a future release. To remove this warning, do the following: 1) Pass option use_label_encoder=False when constructing XGBClassifier object; and 2) Encode your labels (y) as integers starting with 0, i.e. 0, 1, 2, ..., [num_class - 1].\n",
      "  warnings.warn(label_encoder_deprecation_msg, UserWarning)\n",
      "c:\\Users\\eirin\\.conda\\envs\\intro-ai\\lib\\site-packages\\xgboost\\data.py:250: FutureWarning: pandas.Int64Index is deprecated and will be removed from pandas in a future version. Use pandas.Index with the appropriate dtype instead.\n",
      "  elif isinstance(data.columns, (pd.Int64Index, pd.RangeIndex)):\n"
     ]
    },
    {
     "name": "stdout",
     "output_type": "stream",
     "text": [
      "[12:50:20] WARNING: C:\\Windows\\Temp\\abs_557yfx631l\\croots\\recipe\\xgboost-split_1659548953302\\work\\src\\learner.cc:1115: Starting in XGBoost 1.3.0, the default evaluation metric used with the objective 'multi:softprob' was changed from 'merror' to 'mlogloss'. Explicitly set eval_metric if you'd like to restore the old behavior.\n"
     ]
    },
    {
     "name": "stderr",
     "output_type": "stream",
     "text": [
      "c:\\Users\\eirin\\.conda\\envs\\intro-ai\\lib\\site-packages\\xgboost\\sklearn.py:1224: UserWarning: The use of label encoder in XGBClassifier is deprecated and will be removed in a future release. To remove this warning, do the following: 1) Pass option use_label_encoder=False when constructing XGBClassifier object; and 2) Encode your labels (y) as integers starting with 0, i.e. 0, 1, 2, ..., [num_class - 1].\n",
      "  warnings.warn(label_encoder_deprecation_msg, UserWarning)\n",
      "c:\\Users\\eirin\\.conda\\envs\\intro-ai\\lib\\site-packages\\xgboost\\data.py:250: FutureWarning: pandas.Int64Index is deprecated and will be removed from pandas in a future version. Use pandas.Index with the appropriate dtype instead.\n",
      "  elif isinstance(data.columns, (pd.Int64Index, pd.RangeIndex)):\n"
     ]
    },
    {
     "name": "stdout",
     "output_type": "stream",
     "text": [
      "[12:50:28] WARNING: C:\\Windows\\Temp\\abs_557yfx631l\\croots\\recipe\\xgboost-split_1659548953302\\work\\src\\learner.cc:1115: Starting in XGBoost 1.3.0, the default evaluation metric used with the objective 'multi:softprob' was changed from 'merror' to 'mlogloss'. Explicitly set eval_metric if you'd like to restore the old behavior.\n"
     ]
    },
    {
     "name": "stderr",
     "output_type": "stream",
     "text": [
      "c:\\Users\\eirin\\.conda\\envs\\intro-ai\\lib\\site-packages\\xgboost\\sklearn.py:1224: UserWarning: The use of label encoder in XGBClassifier is deprecated and will be removed in a future release. To remove this warning, do the following: 1) Pass option use_label_encoder=False when constructing XGBClassifier object; and 2) Encode your labels (y) as integers starting with 0, i.e. 0, 1, 2, ..., [num_class - 1].\n",
      "  warnings.warn(label_encoder_deprecation_msg, UserWarning)\n",
      "c:\\Users\\eirin\\.conda\\envs\\intro-ai\\lib\\site-packages\\xgboost\\data.py:250: FutureWarning: pandas.Int64Index is deprecated and will be removed from pandas in a future version. Use pandas.Index with the appropriate dtype instead.\n",
      "  elif isinstance(data.columns, (pd.Int64Index, pd.RangeIndex)):\n"
     ]
    },
    {
     "name": "stdout",
     "output_type": "stream",
     "text": [
      "[12:50:36] WARNING: C:\\Windows\\Temp\\abs_557yfx631l\\croots\\recipe\\xgboost-split_1659548953302\\work\\src\\learner.cc:1115: Starting in XGBoost 1.3.0, the default evaluation metric used with the objective 'multi:softprob' was changed from 'merror' to 'mlogloss'. Explicitly set eval_metric if you'd like to restore the old behavior.\n"
     ]
    },
    {
     "name": "stderr",
     "output_type": "stream",
     "text": [
      "c:\\Users\\eirin\\.conda\\envs\\intro-ai\\lib\\site-packages\\xgboost\\sklearn.py:1224: UserWarning: The use of label encoder in XGBClassifier is deprecated and will be removed in a future release. To remove this warning, do the following: 1) Pass option use_label_encoder=False when constructing XGBClassifier object; and 2) Encode your labels (y) as integers starting with 0, i.e. 0, 1, 2, ..., [num_class - 1].\n",
      "  warnings.warn(label_encoder_deprecation_msg, UserWarning)\n",
      "c:\\Users\\eirin\\.conda\\envs\\intro-ai\\lib\\site-packages\\xgboost\\data.py:250: FutureWarning: pandas.Int64Index is deprecated and will be removed from pandas in a future version. Use pandas.Index with the appropriate dtype instead.\n",
      "  elif isinstance(data.columns, (pd.Int64Index, pd.RangeIndex)):\n"
     ]
    },
    {
     "name": "stdout",
     "output_type": "stream",
     "text": [
      "[12:50:44] WARNING: C:\\Windows\\Temp\\abs_557yfx631l\\croots\\recipe\\xgboost-split_1659548953302\\work\\src\\learner.cc:1115: Starting in XGBoost 1.3.0, the default evaluation metric used with the objective 'multi:softprob' was changed from 'merror' to 'mlogloss'. Explicitly set eval_metric if you'd like to restore the old behavior.\n"
     ]
    },
    {
     "name": "stderr",
     "output_type": "stream",
     "text": [
      "c:\\Users\\eirin\\.conda\\envs\\intro-ai\\lib\\site-packages\\xgboost\\sklearn.py:1224: UserWarning: The use of label encoder in XGBClassifier is deprecated and will be removed in a future release. To remove this warning, do the following: 1) Pass option use_label_encoder=False when constructing XGBClassifier object; and 2) Encode your labels (y) as integers starting with 0, i.e. 0, 1, 2, ..., [num_class - 1].\n",
      "  warnings.warn(label_encoder_deprecation_msg, UserWarning)\n",
      "c:\\Users\\eirin\\.conda\\envs\\intro-ai\\lib\\site-packages\\xgboost\\data.py:250: FutureWarning: pandas.Int64Index is deprecated and will be removed from pandas in a future version. Use pandas.Index with the appropriate dtype instead.\n",
      "  elif isinstance(data.columns, (pd.Int64Index, pd.RangeIndex)):\n"
     ]
    },
    {
     "name": "stdout",
     "output_type": "stream",
     "text": [
      "[12:50:53] WARNING: C:\\Windows\\Temp\\abs_557yfx631l\\croots\\recipe\\xgboost-split_1659548953302\\work\\src\\learner.cc:1115: Starting in XGBoost 1.3.0, the default evaluation metric used with the objective 'multi:softprob' was changed from 'merror' to 'mlogloss'. Explicitly set eval_metric if you'd like to restore the old behavior.\n"
     ]
    },
    {
     "name": "stderr",
     "output_type": "stream",
     "text": [
      "\u001b[32m[I 2022-10-13 12:51:01,447]\u001b[0m Trial 3 finished with value: 0.9775633820281314 and parameters: {'n_estimators': 754, 'max_depth': 21, 'reg_alpha': 2, 'reg_lambda': 2, 'min_child_weight': 5, 'gamma': 4, 'learning_rate': 0.31937658427136034, 'colsample_bytree': 0.65}. Best is trial 1 with value: 0.9788986741029675.\u001b[0m\n",
      "C:\\Users\\eirin\\AppData\\Local\\Temp\\ipykernel_6004\\1596821872.py:9: FutureWarning: suggest_loguniform has been deprecated in v3.0.0. This feature will be removed in v6.0.0. See https://github.com/optuna/optuna/releases/tag/v3.0.0. Use :func:`~optuna.trial.Trial.suggest_float` instead.\n",
      "  'learning_rate':trial.suggest_loguniform('learning_rate',0.005,0.5),\n",
      "C:\\Users\\eirin\\AppData\\Local\\Temp\\ipykernel_6004\\1596821872.py:10: FutureWarning: suggest_discrete_uniform has been deprecated in v3.0.0. This feature will be removed in v6.0.0. See https://github.com/optuna/optuna/releases/tag/v3.0.0. Use :func:`~optuna.trial.Trial.suggest_float` instead.\n",
      "  'colsample_bytree':trial.suggest_discrete_uniform('colsample_bytree',0.1,1,0.01),\n",
      "c:\\Users\\eirin\\.conda\\envs\\intro-ai\\lib\\site-packages\\xgboost\\sklearn.py:1224: UserWarning: The use of label encoder in XGBClassifier is deprecated and will be removed in a future release. To remove this warning, do the following: 1) Pass option use_label_encoder=False when constructing XGBClassifier object; and 2) Encode your labels (y) as integers starting with 0, i.e. 0, 1, 2, ..., [num_class - 1].\n",
      "  warnings.warn(label_encoder_deprecation_msg, UserWarning)\n",
      "c:\\Users\\eirin\\.conda\\envs\\intro-ai\\lib\\site-packages\\xgboost\\data.py:250: FutureWarning: pandas.Int64Index is deprecated and will be removed from pandas in a future version. Use pandas.Index with the appropriate dtype instead.\n",
      "  elif isinstance(data.columns, (pd.Int64Index, pd.RangeIndex)):\n"
     ]
    },
    {
     "name": "stdout",
     "output_type": "stream",
     "text": [
      "[12:51:01] WARNING: C:\\Windows\\Temp\\abs_557yfx631l\\croots\\recipe\\xgboost-split_1659548953302\\work\\src\\learner.cc:1115: Starting in XGBoost 1.3.0, the default evaluation metric used with the objective 'multi:softprob' was changed from 'merror' to 'mlogloss'. Explicitly set eval_metric if you'd like to restore the old behavior.\n"
     ]
    },
    {
     "name": "stderr",
     "output_type": "stream",
     "text": [
      "c:\\Users\\eirin\\.conda\\envs\\intro-ai\\lib\\site-packages\\xgboost\\sklearn.py:1224: UserWarning: The use of label encoder in XGBClassifier is deprecated and will be removed in a future release. To remove this warning, do the following: 1) Pass option use_label_encoder=False when constructing XGBClassifier object; and 2) Encode your labels (y) as integers starting with 0, i.e. 0, 1, 2, ..., [num_class - 1].\n",
      "  warnings.warn(label_encoder_deprecation_msg, UserWarning)\n",
      "c:\\Users\\eirin\\.conda\\envs\\intro-ai\\lib\\site-packages\\xgboost\\data.py:250: FutureWarning: pandas.Int64Index is deprecated and will be removed from pandas in a future version. Use pandas.Index with the appropriate dtype instead.\n",
      "  elif isinstance(data.columns, (pd.Int64Index, pd.RangeIndex)):\n"
     ]
    },
    {
     "name": "stdout",
     "output_type": "stream",
     "text": [
      "[12:51:06] WARNING: C:\\Windows\\Temp\\abs_557yfx631l\\croots\\recipe\\xgboost-split_1659548953302\\work\\src\\learner.cc:1115: Starting in XGBoost 1.3.0, the default evaluation metric used with the objective 'multi:softprob' was changed from 'merror' to 'mlogloss'. Explicitly set eval_metric if you'd like to restore the old behavior.\n"
     ]
    },
    {
     "name": "stderr",
     "output_type": "stream",
     "text": [
      "c:\\Users\\eirin\\.conda\\envs\\intro-ai\\lib\\site-packages\\xgboost\\sklearn.py:1224: UserWarning: The use of label encoder in XGBClassifier is deprecated and will be removed in a future release. To remove this warning, do the following: 1) Pass option use_label_encoder=False when constructing XGBClassifier object; and 2) Encode your labels (y) as integers starting with 0, i.e. 0, 1, 2, ..., [num_class - 1].\n",
      "  warnings.warn(label_encoder_deprecation_msg, UserWarning)\n",
      "c:\\Users\\eirin\\.conda\\envs\\intro-ai\\lib\\site-packages\\xgboost\\data.py:250: FutureWarning: pandas.Int64Index is deprecated and will be removed from pandas in a future version. Use pandas.Index with the appropriate dtype instead.\n",
      "  elif isinstance(data.columns, (pd.Int64Index, pd.RangeIndex)):\n"
     ]
    },
    {
     "name": "stdout",
     "output_type": "stream",
     "text": [
      "[12:51:11] WARNING: C:\\Windows\\Temp\\abs_557yfx631l\\croots\\recipe\\xgboost-split_1659548953302\\work\\src\\learner.cc:1115: Starting in XGBoost 1.3.0, the default evaluation metric used with the objective 'multi:softprob' was changed from 'merror' to 'mlogloss'. Explicitly set eval_metric if you'd like to restore the old behavior.\n"
     ]
    },
    {
     "name": "stderr",
     "output_type": "stream",
     "text": [
      "c:\\Users\\eirin\\.conda\\envs\\intro-ai\\lib\\site-packages\\xgboost\\sklearn.py:1224: UserWarning: The use of label encoder in XGBClassifier is deprecated and will be removed in a future release. To remove this warning, do the following: 1) Pass option use_label_encoder=False when constructing XGBClassifier object; and 2) Encode your labels (y) as integers starting with 0, i.e. 0, 1, 2, ..., [num_class - 1].\n",
      "  warnings.warn(label_encoder_deprecation_msg, UserWarning)\n",
      "c:\\Users\\eirin\\.conda\\envs\\intro-ai\\lib\\site-packages\\xgboost\\data.py:250: FutureWarning: pandas.Int64Index is deprecated and will be removed from pandas in a future version. Use pandas.Index with the appropriate dtype instead.\n",
      "  elif isinstance(data.columns, (pd.Int64Index, pd.RangeIndex)):\n"
     ]
    },
    {
     "name": "stdout",
     "output_type": "stream",
     "text": [
      "[12:51:16] WARNING: C:\\Windows\\Temp\\abs_557yfx631l\\croots\\recipe\\xgboost-split_1659548953302\\work\\src\\learner.cc:1115: Starting in XGBoost 1.3.0, the default evaluation metric used with the objective 'multi:softprob' was changed from 'merror' to 'mlogloss'. Explicitly set eval_metric if you'd like to restore the old behavior.\n"
     ]
    },
    {
     "name": "stderr",
     "output_type": "stream",
     "text": [
      "c:\\Users\\eirin\\.conda\\envs\\intro-ai\\lib\\site-packages\\xgboost\\sklearn.py:1224: UserWarning: The use of label encoder in XGBClassifier is deprecated and will be removed in a future release. To remove this warning, do the following: 1) Pass option use_label_encoder=False when constructing XGBClassifier object; and 2) Encode your labels (y) as integers starting with 0, i.e. 0, 1, 2, ..., [num_class - 1].\n",
      "  warnings.warn(label_encoder_deprecation_msg, UserWarning)\n",
      "c:\\Users\\eirin\\.conda\\envs\\intro-ai\\lib\\site-packages\\xgboost\\data.py:250: FutureWarning: pandas.Int64Index is deprecated and will be removed from pandas in a future version. Use pandas.Index with the appropriate dtype instead.\n",
      "  elif isinstance(data.columns, (pd.Int64Index, pd.RangeIndex)):\n"
     ]
    },
    {
     "name": "stdout",
     "output_type": "stream",
     "text": [
      "[12:51:21] WARNING: C:\\Windows\\Temp\\abs_557yfx631l\\croots\\recipe\\xgboost-split_1659548953302\\work\\src\\learner.cc:1115: Starting in XGBoost 1.3.0, the default evaluation metric used with the objective 'multi:softprob' was changed from 'merror' to 'mlogloss'. Explicitly set eval_metric if you'd like to restore the old behavior.\n"
     ]
    },
    {
     "name": "stderr",
     "output_type": "stream",
     "text": [
      "\u001b[32m[I 2022-10-13 12:51:26,543]\u001b[0m Trial 4 finished with value: 0.95486217945659 and parameters: {'n_estimators': 262, 'max_depth': 10, 'reg_alpha': 2, 'reg_lambda': 3, 'min_child_weight': 0, 'gamma': 2, 'learning_rate': 0.006057159626934722, 'colsample_bytree': 0.33}. Best is trial 1 with value: 0.9788986741029675.\u001b[0m\n",
      "C:\\Users\\eirin\\AppData\\Local\\Temp\\ipykernel_6004\\1596821872.py:9: FutureWarning: suggest_loguniform has been deprecated in v3.0.0. This feature will be removed in v6.0.0. See https://github.com/optuna/optuna/releases/tag/v3.0.0. Use :func:`~optuna.trial.Trial.suggest_float` instead.\n",
      "  'learning_rate':trial.suggest_loguniform('learning_rate',0.005,0.5),\n",
      "C:\\Users\\eirin\\AppData\\Local\\Temp\\ipykernel_6004\\1596821872.py:10: FutureWarning: suggest_discrete_uniform has been deprecated in v3.0.0. This feature will be removed in v6.0.0. See https://github.com/optuna/optuna/releases/tag/v3.0.0. Use :func:`~optuna.trial.Trial.suggest_float` instead.\n",
      "  'colsample_bytree':trial.suggest_discrete_uniform('colsample_bytree',0.1,1,0.01),\n",
      "c:\\Users\\eirin\\.conda\\envs\\intro-ai\\lib\\site-packages\\xgboost\\sklearn.py:1224: UserWarning: The use of label encoder in XGBClassifier is deprecated and will be removed in a future release. To remove this warning, do the following: 1) Pass option use_label_encoder=False when constructing XGBClassifier object; and 2) Encode your labels (y) as integers starting with 0, i.e. 0, 1, 2, ..., [num_class - 1].\n",
      "  warnings.warn(label_encoder_deprecation_msg, UserWarning)\n",
      "c:\\Users\\eirin\\.conda\\envs\\intro-ai\\lib\\site-packages\\xgboost\\data.py:250: FutureWarning: pandas.Int64Index is deprecated and will be removed from pandas in a future version. Use pandas.Index with the appropriate dtype instead.\n",
      "  elif isinstance(data.columns, (pd.Int64Index, pd.RangeIndex)):\n"
     ]
    },
    {
     "name": "stdout",
     "output_type": "stream",
     "text": [
      "[12:51:26] WARNING: C:\\Windows\\Temp\\abs_557yfx631l\\croots\\recipe\\xgboost-split_1659548953302\\work\\src\\learner.cc:1115: Starting in XGBoost 1.3.0, the default evaluation metric used with the objective 'multi:softprob' was changed from 'merror' to 'mlogloss'. Explicitly set eval_metric if you'd like to restore the old behavior.\n"
     ]
    },
    {
     "name": "stderr",
     "output_type": "stream",
     "text": [
      "c:\\Users\\eirin\\.conda\\envs\\intro-ai\\lib\\site-packages\\xgboost\\sklearn.py:1224: UserWarning: The use of label encoder in XGBClassifier is deprecated and will be removed in a future release. To remove this warning, do the following: 1) Pass option use_label_encoder=False when constructing XGBClassifier object; and 2) Encode your labels (y) as integers starting with 0, i.e. 0, 1, 2, ..., [num_class - 1].\n",
      "  warnings.warn(label_encoder_deprecation_msg, UserWarning)\n",
      "c:\\Users\\eirin\\.conda\\envs\\intro-ai\\lib\\site-packages\\xgboost\\data.py:250: FutureWarning: pandas.Int64Index is deprecated and will be removed from pandas in a future version. Use pandas.Index with the appropriate dtype instead.\n",
      "  elif isinstance(data.columns, (pd.Int64Index, pd.RangeIndex)):\n"
     ]
    },
    {
     "name": "stdout",
     "output_type": "stream",
     "text": [
      "[12:51:39] WARNING: C:\\Windows\\Temp\\abs_557yfx631l\\croots\\recipe\\xgboost-split_1659548953302\\work\\src\\learner.cc:1115: Starting in XGBoost 1.3.0, the default evaluation metric used with the objective 'multi:softprob' was changed from 'merror' to 'mlogloss'. Explicitly set eval_metric if you'd like to restore the old behavior.\n"
     ]
    },
    {
     "name": "stderr",
     "output_type": "stream",
     "text": [
      "c:\\Users\\eirin\\.conda\\envs\\intro-ai\\lib\\site-packages\\xgboost\\sklearn.py:1224: UserWarning: The use of label encoder in XGBClassifier is deprecated and will be removed in a future release. To remove this warning, do the following: 1) Pass option use_label_encoder=False when constructing XGBClassifier object; and 2) Encode your labels (y) as integers starting with 0, i.e. 0, 1, 2, ..., [num_class - 1].\n",
      "  warnings.warn(label_encoder_deprecation_msg, UserWarning)\n",
      "c:\\Users\\eirin\\.conda\\envs\\intro-ai\\lib\\site-packages\\xgboost\\data.py:250: FutureWarning: pandas.Int64Index is deprecated and will be removed from pandas in a future version. Use pandas.Index with the appropriate dtype instead.\n",
      "  elif isinstance(data.columns, (pd.Int64Index, pd.RangeIndex)):\n"
     ]
    },
    {
     "name": "stdout",
     "output_type": "stream",
     "text": [
      "[12:51:51] WARNING: C:\\Windows\\Temp\\abs_557yfx631l\\croots\\recipe\\xgboost-split_1659548953302\\work\\src\\learner.cc:1115: Starting in XGBoost 1.3.0, the default evaluation metric used with the objective 'multi:softprob' was changed from 'merror' to 'mlogloss'. Explicitly set eval_metric if you'd like to restore the old behavior.\n"
     ]
    },
    {
     "name": "stderr",
     "output_type": "stream",
     "text": [
      "c:\\Users\\eirin\\.conda\\envs\\intro-ai\\lib\\site-packages\\xgboost\\sklearn.py:1224: UserWarning: The use of label encoder in XGBClassifier is deprecated and will be removed in a future release. To remove this warning, do the following: 1) Pass option use_label_encoder=False when constructing XGBClassifier object; and 2) Encode your labels (y) as integers starting with 0, i.e. 0, 1, 2, ..., [num_class - 1].\n",
      "  warnings.warn(label_encoder_deprecation_msg, UserWarning)\n",
      "c:\\Users\\eirin\\.conda\\envs\\intro-ai\\lib\\site-packages\\xgboost\\data.py:250: FutureWarning: pandas.Int64Index is deprecated and will be removed from pandas in a future version. Use pandas.Index with the appropriate dtype instead.\n",
      "  elif isinstance(data.columns, (pd.Int64Index, pd.RangeIndex)):\n"
     ]
    },
    {
     "name": "stdout",
     "output_type": "stream",
     "text": [
      "[12:52:04] WARNING: C:\\Windows\\Temp\\abs_557yfx631l\\croots\\recipe\\xgboost-split_1659548953302\\work\\src\\learner.cc:1115: Starting in XGBoost 1.3.0, the default evaluation metric used with the objective 'multi:softprob' was changed from 'merror' to 'mlogloss'. Explicitly set eval_metric if you'd like to restore the old behavior.\n"
     ]
    },
    {
     "name": "stderr",
     "output_type": "stream",
     "text": [
      "c:\\Users\\eirin\\.conda\\envs\\intro-ai\\lib\\site-packages\\xgboost\\sklearn.py:1224: UserWarning: The use of label encoder in XGBClassifier is deprecated and will be removed in a future release. To remove this warning, do the following: 1) Pass option use_label_encoder=False when constructing XGBClassifier object; and 2) Encode your labels (y) as integers starting with 0, i.e. 0, 1, 2, ..., [num_class - 1].\n",
      "  warnings.warn(label_encoder_deprecation_msg, UserWarning)\n",
      "c:\\Users\\eirin\\.conda\\envs\\intro-ai\\lib\\site-packages\\xgboost\\data.py:250: FutureWarning: pandas.Int64Index is deprecated and will be removed from pandas in a future version. Use pandas.Index with the appropriate dtype instead.\n",
      "  elif isinstance(data.columns, (pd.Int64Index, pd.RangeIndex)):\n"
     ]
    },
    {
     "name": "stdout",
     "output_type": "stream",
     "text": [
      "[12:52:16] WARNING: C:\\Windows\\Temp\\abs_557yfx631l\\croots\\recipe\\xgboost-split_1659548953302\\work\\src\\learner.cc:1115: Starting in XGBoost 1.3.0, the default evaluation metric used with the objective 'multi:softprob' was changed from 'merror' to 'mlogloss'. Explicitly set eval_metric if you'd like to restore the old behavior.\n"
     ]
    },
    {
     "name": "stderr",
     "output_type": "stream",
     "text": [
      "\u001b[32m[I 2022-10-13 12:52:29,574]\u001b[0m Trial 5 finished with value: 0.9781957802053673 and parameters: {'n_estimators': 895, 'max_depth': 14, 'reg_alpha': 2, 'reg_lambda': 1, 'min_child_weight': 2, 'gamma': 2, 'learning_rate': 0.2661412681815693, 'colsample_bytree': 0.62}. Best is trial 1 with value: 0.9788986741029675.\u001b[0m\n"
     ]
    }
   ],
   "source": [
    "# Create a Optuna study object with .create_study() and set the direction to maximize, this is because we want to maximize the f1 score.\n",
    "# Then, run the study with .optimize() and pass the objective function and the number of trials as parameters.\n",
    "study = opt.create_study(direction=\"maximize\")\n",
    "study.optimize(objective,n_trials=6)"
   ]
  },
  {
   "cell_type": "markdown",
   "metadata": {},
   "source": [
    "# Using optuna hyperparams to make a model"
   ]
  },
  {
   "cell_type": "code",
   "execution_count": 15,
   "metadata": {},
   "outputs": [
    {
     "name": "stdout",
     "output_type": "stream",
     "text": [
      "[12:59:03] WARNING: C:\\Windows\\Temp\\abs_557yfx631l\\croots\\recipe\\xgboost-split_1659548953302\\work\\src\\learner.cc:1115: Starting in XGBoost 1.3.0, the default evaluation metric used with the objective 'multi:softprob' was changed from 'merror' to 'mlogloss'. Explicitly set eval_metric if you'd like to restore the old behavior.\n"
     ]
    },
    {
     "data": {
      "text/html": [
       "<style>#sk-container-id-2 {color: black;background-color: white;}#sk-container-id-2 pre{padding: 0;}#sk-container-id-2 div.sk-toggleable {background-color: white;}#sk-container-id-2 label.sk-toggleable__label {cursor: pointer;display: block;width: 100%;margin-bottom: 0;padding: 0.3em;box-sizing: border-box;text-align: center;}#sk-container-id-2 label.sk-toggleable__label-arrow:before {content: \"▸\";float: left;margin-right: 0.25em;color: #696969;}#sk-container-id-2 label.sk-toggleable__label-arrow:hover:before {color: black;}#sk-container-id-2 div.sk-estimator:hover label.sk-toggleable__label-arrow:before {color: black;}#sk-container-id-2 div.sk-toggleable__content {max-height: 0;max-width: 0;overflow: hidden;text-align: left;background-color: #f0f8ff;}#sk-container-id-2 div.sk-toggleable__content pre {margin: 0.2em;color: black;border-radius: 0.25em;background-color: #f0f8ff;}#sk-container-id-2 input.sk-toggleable__control:checked~div.sk-toggleable__content {max-height: 200px;max-width: 100%;overflow: auto;}#sk-container-id-2 input.sk-toggleable__control:checked~label.sk-toggleable__label-arrow:before {content: \"▾\";}#sk-container-id-2 div.sk-estimator input.sk-toggleable__control:checked~label.sk-toggleable__label {background-color: #d4ebff;}#sk-container-id-2 div.sk-label input.sk-toggleable__control:checked~label.sk-toggleable__label {background-color: #d4ebff;}#sk-container-id-2 input.sk-hidden--visually {border: 0;clip: rect(1px 1px 1px 1px);clip: rect(1px, 1px, 1px, 1px);height: 1px;margin: -1px;overflow: hidden;padding: 0;position: absolute;width: 1px;}#sk-container-id-2 div.sk-estimator {font-family: monospace;background-color: #f0f8ff;border: 1px dotted black;border-radius: 0.25em;box-sizing: border-box;margin-bottom: 0.5em;}#sk-container-id-2 div.sk-estimator:hover {background-color: #d4ebff;}#sk-container-id-2 div.sk-parallel-item::after {content: \"\";width: 100%;border-bottom: 1px solid gray;flex-grow: 1;}#sk-container-id-2 div.sk-label:hover label.sk-toggleable__label {background-color: #d4ebff;}#sk-container-id-2 div.sk-serial::before {content: \"\";position: absolute;border-left: 1px solid gray;box-sizing: border-box;top: 0;bottom: 0;left: 50%;z-index: 0;}#sk-container-id-2 div.sk-serial {display: flex;flex-direction: column;align-items: center;background-color: white;padding-right: 0.2em;padding-left: 0.2em;position: relative;}#sk-container-id-2 div.sk-item {position: relative;z-index: 1;}#sk-container-id-2 div.sk-parallel {display: flex;align-items: stretch;justify-content: center;background-color: white;position: relative;}#sk-container-id-2 div.sk-item::before, #sk-container-id-2 div.sk-parallel-item::before {content: \"\";position: absolute;border-left: 1px solid gray;box-sizing: border-box;top: 0;bottom: 0;left: 50%;z-index: -1;}#sk-container-id-2 div.sk-parallel-item {display: flex;flex-direction: column;z-index: 1;position: relative;background-color: white;}#sk-container-id-2 div.sk-parallel-item:first-child::after {align-self: flex-end;width: 50%;}#sk-container-id-2 div.sk-parallel-item:last-child::after {align-self: flex-start;width: 50%;}#sk-container-id-2 div.sk-parallel-item:only-child::after {width: 0;}#sk-container-id-2 div.sk-dashed-wrapped {border: 1px dashed gray;margin: 0 0.4em 0.5em 0.4em;box-sizing: border-box;padding-bottom: 0.4em;background-color: white;}#sk-container-id-2 div.sk-label label {font-family: monospace;font-weight: bold;display: inline-block;line-height: 1.2em;}#sk-container-id-2 div.sk-label-container {text-align: center;}#sk-container-id-2 div.sk-container {/* jupyter's `normalize.less` sets `[hidden] { display: none; }` but bootstrap.min.css set `[hidden] { display: none !important; }` so we also need the `!important` here to be able to override the default hidden behavior on the sphinx rendered scikit-learn.org. See: https://github.com/scikit-learn/scikit-learn/issues/21755 */display: inline-block !important;position: relative;}#sk-container-id-2 div.sk-text-repr-fallback {display: none;}</style><div id=\"sk-container-id-2\" class=\"sk-top-container\"><div class=\"sk-text-repr-fallback\"><pre>XGBClassifier(base_score=0.5, booster=&#x27;gbtree&#x27;, colsample_bylevel=1,\n",
       "              colsample_bynode=1, colsample_bytree=1, enable_categorical=False,\n",
       "              gamma=0, gpu_id=-1, importance_type=None,\n",
       "              interaction_constraints=&#x27;&#x27;, learning_rate=0.300000012,\n",
       "              max_delta_step=0, max_depth=6, min_child_weight=1, missing=nan,\n",
       "              monotone_constraints=&#x27;()&#x27;, n_estimators=100, n_jobs=16,\n",
       "              num_parallel_tree=1, objective=&#x27;multi:softprob&#x27;, predictor=&#x27;auto&#x27;,\n",
       "              random_state=0, reg_alpha=0, reg_lambda=1, scale_pos_weight=None,\n",
       "              subsample=1, tree_method=&#x27;exact&#x27;, validate_parameters=1,\n",
       "              verbosity=None)</pre><b>In a Jupyter environment, please rerun this cell to show the HTML representation or trust the notebook. <br />On GitHub, the HTML representation is unable to render, please try loading this page with nbviewer.org.</b></div><div class=\"sk-container\" hidden><div class=\"sk-item\"><div class=\"sk-estimator sk-toggleable\"><input class=\"sk-toggleable__control sk-hidden--visually\" id=\"sk-estimator-id-2\" type=\"checkbox\" checked><label for=\"sk-estimator-id-2\" class=\"sk-toggleable__label sk-toggleable__label-arrow\">XGBClassifier</label><div class=\"sk-toggleable__content\"><pre>XGBClassifier(base_score=0.5, booster=&#x27;gbtree&#x27;, colsample_bylevel=1,\n",
       "              colsample_bynode=1, colsample_bytree=1, enable_categorical=False,\n",
       "              gamma=0, gpu_id=-1, importance_type=None,\n",
       "              interaction_constraints=&#x27;&#x27;, learning_rate=0.300000012,\n",
       "              max_delta_step=0, max_depth=6, min_child_weight=1, missing=nan,\n",
       "              monotone_constraints=&#x27;()&#x27;, n_estimators=100, n_jobs=16,\n",
       "              num_parallel_tree=1, objective=&#x27;multi:softprob&#x27;, predictor=&#x27;auto&#x27;,\n",
       "              random_state=0, reg_alpha=0, reg_lambda=1, scale_pos_weight=None,\n",
       "              subsample=1, tree_method=&#x27;exact&#x27;, validate_parameters=1,\n",
       "              verbosity=None)</pre></div></div></div></div></div>"
      ],
      "text/plain": [
       "XGBClassifier(base_score=0.5, booster='gbtree', colsample_bylevel=1,\n",
       "              colsample_bynode=1, colsample_bytree=1, enable_categorical=False,\n",
       "              gamma=0, gpu_id=-1, importance_type=None,\n",
       "              interaction_constraints='', learning_rate=0.300000012,\n",
       "              max_delta_step=0, max_depth=6, min_child_weight=1, missing=nan,\n",
       "              monotone_constraints='()', n_estimators=100, n_jobs=16,\n",
       "              num_parallel_tree=1, objective='multi:softprob', predictor='auto',\n",
       "              random_state=0, reg_alpha=0, reg_lambda=1, scale_pos_weight=None,\n",
       "              subsample=1, tree_method='exact', validate_parameters=1,\n",
       "              verbosity=None)"
      ]
     },
     "execution_count": 15,
     "metadata": {},
     "output_type": "execute_result"
    }
   ],
   "source": [
    "# Retrieve the best parameters from the study with .best_params\n",
    "# And create a XGBoost classifier with the best parameters, then fit the model with the training data\n",
    "param2 = study.best_params\n",
    "model2 = xgb.XGBClassifier(param2)\n",
    "model2.fit(X_train, y_train)"
   ]
  },
  {
   "cell_type": "markdown",
   "metadata": {},
   "source": [
    "# Using cross-validation to get an accurate score"
   ]
  },
  {
   "cell_type": "code",
   "execution_count": 17,
   "metadata": {},
   "outputs": [
    {
     "name": "stderr",
     "output_type": "stream",
     "text": [
      "c:\\Users\\eirin\\.conda\\envs\\intro-ai\\lib\\site-packages\\xgboost\\sklearn.py:1224: UserWarning: The use of label encoder in XGBClassifier is deprecated and will be removed in a future release. To remove this warning, do the following: 1) Pass option use_label_encoder=False when constructing XGBClassifier object; and 2) Encode your labels (y) as integers starting with 0, i.e. 0, 1, 2, ..., [num_class - 1].\n",
      "  warnings.warn(label_encoder_deprecation_msg, UserWarning)\n",
      "c:\\Users\\eirin\\.conda\\envs\\intro-ai\\lib\\site-packages\\xgboost\\data.py:250: FutureWarning: pandas.Int64Index is deprecated and will be removed from pandas in a future version. Use pandas.Index with the appropriate dtype instead.\n",
      "  elif isinstance(data.columns, (pd.Int64Index, pd.RangeIndex)):\n"
     ]
    },
    {
     "name": "stdout",
     "output_type": "stream",
     "text": [
      "[13:03:18] WARNING: C:\\Windows\\Temp\\abs_557yfx631l\\croots\\recipe\\xgboost-split_1659548953302\\work\\src\\learner.cc:1115: Starting in XGBoost 1.3.0, the default evaluation metric used with the objective 'multi:softprob' was changed from 'merror' to 'mlogloss'. Explicitly set eval_metric if you'd like to restore the old behavior.\n"
     ]
    },
    {
     "name": "stderr",
     "output_type": "stream",
     "text": [
      "c:\\Users\\eirin\\.conda\\envs\\intro-ai\\lib\\site-packages\\xgboost\\sklearn.py:1224: UserWarning: The use of label encoder in XGBClassifier is deprecated and will be removed in a future release. To remove this warning, do the following: 1) Pass option use_label_encoder=False when constructing XGBClassifier object; and 2) Encode your labels (y) as integers starting with 0, i.e. 0, 1, 2, ..., [num_class - 1].\n",
      "  warnings.warn(label_encoder_deprecation_msg, UserWarning)\n",
      "c:\\Users\\eirin\\.conda\\envs\\intro-ai\\lib\\site-packages\\xgboost\\data.py:250: FutureWarning: pandas.Int64Index is deprecated and will be removed from pandas in a future version. Use pandas.Index with the appropriate dtype instead.\n",
      "  elif isinstance(data.columns, (pd.Int64Index, pd.RangeIndex)):\n"
     ]
    },
    {
     "name": "stdout",
     "output_type": "stream",
     "text": [
      "[13:03:19] WARNING: C:\\Windows\\Temp\\abs_557yfx631l\\croots\\recipe\\xgboost-split_1659548953302\\work\\src\\learner.cc:1115: Starting in XGBoost 1.3.0, the default evaluation metric used with the objective 'multi:softprob' was changed from 'merror' to 'mlogloss'. Explicitly set eval_metric if you'd like to restore the old behavior.\n"
     ]
    },
    {
     "name": "stderr",
     "output_type": "stream",
     "text": [
      "c:\\Users\\eirin\\.conda\\envs\\intro-ai\\lib\\site-packages\\xgboost\\sklearn.py:1224: UserWarning: The use of label encoder in XGBClassifier is deprecated and will be removed in a future release. To remove this warning, do the following: 1) Pass option use_label_encoder=False when constructing XGBClassifier object; and 2) Encode your labels (y) as integers starting with 0, i.e. 0, 1, 2, ..., [num_class - 1].\n",
      "  warnings.warn(label_encoder_deprecation_msg, UserWarning)\n",
      "c:\\Users\\eirin\\.conda\\envs\\intro-ai\\lib\\site-packages\\xgboost\\data.py:250: FutureWarning: pandas.Int64Index is deprecated and will be removed from pandas in a future version. Use pandas.Index with the appropriate dtype instead.\n",
      "  elif isinstance(data.columns, (pd.Int64Index, pd.RangeIndex)):\n"
     ]
    },
    {
     "name": "stdout",
     "output_type": "stream",
     "text": [
      "[13:03:20] WARNING: C:\\Windows\\Temp\\abs_557yfx631l\\croots\\recipe\\xgboost-split_1659548953302\\work\\src\\learner.cc:1115: Starting in XGBoost 1.3.0, the default evaluation metric used with the objective 'multi:softprob' was changed from 'merror' to 'mlogloss'. Explicitly set eval_metric if you'd like to restore the old behavior.\n"
     ]
    },
    {
     "name": "stderr",
     "output_type": "stream",
     "text": [
      "c:\\Users\\eirin\\.conda\\envs\\intro-ai\\lib\\site-packages\\xgboost\\sklearn.py:1224: UserWarning: The use of label encoder in XGBClassifier is deprecated and will be removed in a future release. To remove this warning, do the following: 1) Pass option use_label_encoder=False when constructing XGBClassifier object; and 2) Encode your labels (y) as integers starting with 0, i.e. 0, 1, 2, ..., [num_class - 1].\n",
      "  warnings.warn(label_encoder_deprecation_msg, UserWarning)\n",
      "c:\\Users\\eirin\\.conda\\envs\\intro-ai\\lib\\site-packages\\xgboost\\data.py:250: FutureWarning: pandas.Int64Index is deprecated and will be removed from pandas in a future version. Use pandas.Index with the appropriate dtype instead.\n",
      "  elif isinstance(data.columns, (pd.Int64Index, pd.RangeIndex)):\n"
     ]
    },
    {
     "name": "stdout",
     "output_type": "stream",
     "text": [
      "[13:03:21] WARNING: C:\\Windows\\Temp\\abs_557yfx631l\\croots\\recipe\\xgboost-split_1659548953302\\work\\src\\learner.cc:1115: Starting in XGBoost 1.3.0, the default evaluation metric used with the objective 'multi:softprob' was changed from 'merror' to 'mlogloss'. Explicitly set eval_metric if you'd like to restore the old behavior.\n"
     ]
    },
    {
     "name": "stderr",
     "output_type": "stream",
     "text": [
      "c:\\Users\\eirin\\.conda\\envs\\intro-ai\\lib\\site-packages\\xgboost\\sklearn.py:1224: UserWarning: The use of label encoder in XGBClassifier is deprecated and will be removed in a future release. To remove this warning, do the following: 1) Pass option use_label_encoder=False when constructing XGBClassifier object; and 2) Encode your labels (y) as integers starting with 0, i.e. 0, 1, 2, ..., [num_class - 1].\n",
      "  warnings.warn(label_encoder_deprecation_msg, UserWarning)\n",
      "c:\\Users\\eirin\\.conda\\envs\\intro-ai\\lib\\site-packages\\xgboost\\data.py:250: FutureWarning: pandas.Int64Index is deprecated and will be removed from pandas in a future version. Use pandas.Index with the appropriate dtype instead.\n",
      "  elif isinstance(data.columns, (pd.Int64Index, pd.RangeIndex)):\n"
     ]
    },
    {
     "name": "stdout",
     "output_type": "stream",
     "text": [
      "[13:03:22] WARNING: C:\\Windows\\Temp\\abs_557yfx631l\\croots\\recipe\\xgboost-split_1659548953302\\work\\src\\learner.cc:1115: Starting in XGBoost 1.3.0, the default evaluation metric used with the objective 'multi:softprob' was changed from 'merror' to 'mlogloss'. Explicitly set eval_metric if you'd like to restore the old behavior.\n",
      "0.9797886037217216\n",
      "0.005862455364287846\n"
     ]
    }
   ],
   "source": [
    "# Use cross_val_score to get the cross validation score of the model with the training data.\n",
    "# Cross validation is a technique to evaluate the performance of a model on unseen data, it is done by splitting the data into \"k\" folds\n",
    "# and then training the model on \"k-1\" folds and testing it on the remaining fold. This is repeated \"k\" times and the average of the\n",
    "# scores is taken as the final score. This effectively means that the data is trained and validated on all of the data.\n",
    "# Run cross_val_score with 5 folds and scoring='f1_macro'\n",
    "\n",
    "scores = cross_val_score(model2, X_train, y_train, cv=5, scoring='f1_macro')\n",
    "print(scores.mean())\n",
    "print(scores.std())\n",
    "\n",
    "# Print the mean and standard deviation of the scores, this is a good way to evaluate the performance of the model."
   ]
  },
  {
   "cell_type": "markdown",
   "metadata": {},
   "source": [
    "# Predicting on the test set with the model"
   ]
  },
  {
   "cell_type": "code",
   "execution_count": 18,
   "metadata": {},
   "outputs": [],
   "source": [
    "# Predict the test data\n",
    "preds = model2.predict(X_test)"
   ]
  },
  {
   "cell_type": "markdown",
   "metadata": {},
   "source": [
    "# Plot the feature importances"
   ]
  },
  {
   "cell_type": "code",
   "execution_count": 21,
   "metadata": {},
   "outputs": [
    {
     "data": {
      "text/plain": [
       "<AxesSubplot:title={'center':'Feature importance'}, xlabel='F score', ylabel='Features'>"
      ]
     },
     "execution_count": 21,
     "metadata": {},
     "output_type": "execute_result"
    },
    {
     "data": {
      "image/png": "[encoded data removed]",
      "text/plain": [
       "<Figure size 640x480 with 1 Axes>"
      ]
     },
     "metadata": {},
     "output_type": "display_data"
    }
   ],
   "source": [
    "# XGBoost has a built in function to plot the feature importance, use it to plot the feature importance of the model.\n",
    "# Feature importance shows how much each feature contributes to the model, this is a good way to see which features are important\n",
    "\n",
    "xgb.plot_importance(model2)"
   ]
  },
  {
   "cell_type": "markdown",
   "metadata": {},
   "source": [
    "# Plotting the confusion matrix"
   ]
  },
  {
   "cell_type": "code",
   "execution_count": 23,
   "metadata": {},
   "outputs": [
    {
     "data": {
      "text/plain": [
       "<sklearn.metrics._plot.confusion_matrix.ConfusionMatrixDisplay at 0x23534677b20>"
      ]
     },
     "execution_count": 23,
     "metadata": {},
     "output_type": "execute_result"
    },
    {
     "data": {
      "image/png": "[encoded data removed]",
      "text/plain": [
       "<Figure size 640x480 with 2 Axes>"
      ]
     },
     "metadata": {},
     "output_type": "display_data"
    }
   ],
   "source": [
    "# A confusion matrix is a table that is often used to describe the performance of a classification model (or \"classifier\") \n",
    "# on a set of test data for which the true values are known. The confusion matrix itself is relatively simple to understand,\n",
    "# but the related terminology can be confusing. The confusion matrix shows the ways in which your classification model is confused\n",
    "# when it makes predictions. It gives you insight not only into the errors being made by your classifier but more importantly\n",
    "# the types of errors that are being made.\n",
    "\n",
    "# Get the confusion matrix from sklearn.metric.confusion_metric and plot it with ConfusionMatrixDisplay\n",
    "# Make sure to include display_labels with the class names (HINT: model.classes_) to make the plot more readable\n",
    "\n",
    "\n",
    "cm = confusion_matrix(y_test, preds)\n",
    "disp = ConfusionMatrixDisplay(confusion_matrix=cm, display_labels=model2.classes_)\n",
    "\n",
    "disp.plot(cmap='Blues')"
   ]
  },
  {
   "cell_type": "markdown",
   "metadata": {},
   "source": [
    "# Plot a tree from the model"
   ]
  },
  {
   "cell_type": "code",
   "execution_count": 39,
   "metadata": {},
   "outputs": [
    {
     "data": {
      "image/svg+xml": "<?xml version=\"1.0\" encoding=\"UTF-8\" standalone=\"no\"?>\n<!DOCTYPE svg PUBLIC \"-//W3C//DTD SVG 1.1//EN\"\n \"http://www.w3.org/Graphics/SVG/1.1/DTD/svg11.dtd\">\n<!-- Generated by graphviz version 2.50.0 (0)\n -->\n<!-- Pages: 1 -->\n<svg width=\"1895pt\" height=\"566pt\"\n viewBox=\"0.00 0.00 1895.38 566.00\" xmlns=\"http://www.w3.org/2000/svg\" xmlns:xlink=\"http://www.w3.org/1999/xlink\">\n<g id=\"graph0\" class=\"graph\" transform=\"scale(1 1) rotate(0) translate(4 562)\">\n<polygon fill=\"white\" stroke=\"transparent\" points=\"-4,4 -4,-562 1891.38,-562 1891.38,4 -4,4\"/>\n<!-- 0 -->\n<g id=\"node1\" class=\"node\">\n<title>0</title>\n<ellipse fill=\"none\" stroke=\"black\" cx=\"648.69\" cy=\"-540\" rx=\"98.28\" ry=\"18\"/>\n<text text-anchor=\"middle\" x=\"648.69\" y=\"-536.3\" font-family=\"Times New Roman,serif\" font-size=\"14.00\">redshift&lt;0.00241211057</text>\n</g>\n<!-- 1 -->\n<g id=\"node2\" class=\"node\">\n<title>1</title>\n<ellipse fill=\"none\" stroke=\"black\" cx=\"448.69\" cy=\"-453\" rx=\"70.39\" ry=\"18\"/>\n<text text-anchor=\"middle\" x=\"448.69\" y=\"-449.3\" font-family=\"Times New Roman,serif\" font-size=\"14.00\">dec&lt;68.3383408</text>\n</g>\n<!-- 0&#45;&gt;1 -->\n<g id=\"edge1\" class=\"edge\">\n<title>0&#45;&gt;1</title>\n<path fill=\"none\" stroke=\"#0000ff\" d=\"M611.54,-523.21C577.98,-508.95 528.54,-487.94 492.95,-472.81\"/>\n<polygon fill=\"#0000ff\" stroke=\"#0000ff\" points=\"493.87,-469.4 483.3,-468.71 491.14,-475.84 493.87,-469.4\"/>\n<text text-anchor=\"middle\" x=\"595.19\" y=\"-492.8\" font-family=\"Times New Roman,serif\" font-size=\"14.00\">yes, missing</text>\n</g>\n<!-- 2 -->\n<g id=\"node3\" class=\"node\">\n<title>2</title>\n<ellipse fill=\"none\" stroke=\"black\" cx=\"782.69\" cy=\"-453\" rx=\"89.08\" ry=\"18\"/>\n<text text-anchor=\"middle\" x=\"782.69\" y=\"-449.3\" font-family=\"Times New Roman,serif\" font-size=\"14.00\">redshift&lt;0.213552505</text>\n</g>\n<!-- 0&#45;&gt;2 -->\n<g id=\"edge2\" class=\"edge\">\n<title>0&#45;&gt;2</title>\n<path fill=\"none\" stroke=\"#ff0000\" d=\"M674.53,-522.61C695.57,-509.26 725.45,-490.31 748.48,-475.7\"/>\n<polygon fill=\"#ff0000\" stroke=\"#ff0000\" points=\"750.37,-478.65 756.93,-470.34 746.62,-472.74 750.37,-478.65\"/>\n<text text-anchor=\"middle\" x=\"731.69\" y=\"-492.8\" font-family=\"Times New Roman,serif\" font-size=\"14.00\">no</text>\n</g>\n<!-- 3 -->\n<g id=\"node4\" class=\"node\">\n<title>3</title>\n<ellipse fill=\"none\" stroke=\"black\" cx=\"259.69\" cy=\"-366\" rx=\"62.29\" ry=\"18\"/>\n<text text-anchor=\"middle\" x=\"259.69\" y=\"-362.3\" font-family=\"Times New Roman,serif\" font-size=\"14.00\">u&lt;19.5889587</text>\n</g>\n<!-- 1&#45;&gt;3 -->\n<g id=\"edge3\" class=\"edge\">\n<title>1&#45;&gt;3</title>\n<path fill=\"none\" stroke=\"#0000ff\" d=\"M415.34,-437C383.57,-422.71 335.63,-401.15 301.36,-385.74\"/>\n<polygon fill=\"#0000ff\" stroke=\"#0000ff\" points=\"302.64,-382.48 292.08,-381.57 299.77,-388.86 302.64,-382.48\"/>\n<text text-anchor=\"middle\" x=\"400.19\" y=\"-405.8\" font-family=\"Times New Roman,serif\" font-size=\"14.00\">yes, missing</text>\n</g>\n<!-- 4 -->\n<g id=\"node5\" class=\"node\">\n<title>4</title>\n<ellipse fill=\"none\" stroke=\"black\" cx=\"448.69\" cy=\"-366\" rx=\"89.88\" ry=\"18\"/>\n<text text-anchor=\"middle\" x=\"448.69\" y=\"-362.3\" font-family=\"Times New Roman,serif\" font-size=\"14.00\">leaf=&#45;7.66345476e&#45;09</text>\n</g>\n<!-- 1&#45;&gt;4 -->\n<g id=\"edge4\" class=\"edge\">\n<title>1&#45;&gt;4</title>\n<path fill=\"none\" stroke=\"#ff0000\" d=\"M448.69,-434.8C448.69,-423.16 448.69,-407.55 448.69,-394.24\"/>\n<polygon fill=\"#ff0000\" stroke=\"#ff0000\" points=\"452.19,-394.18 448.69,-384.18 445.19,-394.18 452.19,-394.18\"/>\n<text text-anchor=\"middle\" x=\"455.69\" y=\"-405.8\" font-family=\"Times New Roman,serif\" font-size=\"14.00\">no</text>\n</g>\n<!-- 5 -->\n<g id=\"node12\" class=\"node\">\n<title>5</title>\n<ellipse fill=\"none\" stroke=\"black\" cx=\"782.69\" cy=\"-366\" rx=\"62.29\" ry=\"18\"/>\n<text text-anchor=\"middle\" x=\"782.69\" y=\"-362.3\" font-family=\"Times New Roman,serif\" font-size=\"14.00\">g&lt;19.0757141</text>\n</g>\n<!-- 2&#45;&gt;5 -->\n<g id=\"edge11\" class=\"edge\">\n<title>2&#45;&gt;5</title>\n<path fill=\"none\" stroke=\"#0000ff\" d=\"M782.69,-434.8C782.69,-423.16 782.69,-407.55 782.69,-394.24\"/>\n<polygon fill=\"#0000ff\" stroke=\"#0000ff\" points=\"786.19,-394.18 782.69,-384.18 779.19,-394.18 786.19,-394.18\"/>\n<text text-anchor=\"middle\" x=\"817.19\" y=\"-405.8\" font-family=\"Times New Roman,serif\" font-size=\"14.00\">yes, missing</text>\n</g>\n<!-- 6 -->\n<g id=\"node13\" class=\"node\">\n<title>6</title>\n<ellipse fill=\"none\" stroke=\"black\" cx=\"1237.69\" cy=\"-366\" rx=\"60.39\" ry=\"18\"/>\n<text text-anchor=\"middle\" x=\"1237.69\" y=\"-362.3\" font-family=\"Times New Roman,serif\" font-size=\"14.00\">i&lt;16.9418507</text>\n</g>\n<!-- 2&#45;&gt;6 -->\n<g id=\"edge12\" class=\"edge\">\n<title>2&#45;&gt;6</title>\n<path fill=\"none\" stroke=\"#ff0000\" d=\"M845.96,-440.18C933.92,-423.75 1092.03,-394.21 1178.03,-378.15\"/>\n<polygon fill=\"#ff0000\" stroke=\"#ff0000\" points=\"1178.71,-381.58 1187.9,-376.3 1177.42,-374.7 1178.71,-381.58\"/>\n<text text-anchor=\"middle\" x=\"1044.69\" y=\"-405.8\" font-family=\"Times New Roman,serif\" font-size=\"14.00\">no</text>\n</g>\n<!-- 7 -->\n<g id=\"node6\" class=\"node\">\n<title>7</title>\n<ellipse fill=\"none\" stroke=\"black\" cx=\"111.69\" cy=\"-279\" rx=\"74.19\" ry=\"18\"/>\n<text text-anchor=\"middle\" x=\"111.69\" y=\"-275.3\" font-family=\"Times New Roman,serif\" font-size=\"14.00\">leaf=&#45;0.22180675</text>\n</g>\n<!-- 3&#45;&gt;7 -->\n<g id=\"edge5\" class=\"edge\">\n<title>3&#45;&gt;7</title>\n<path fill=\"none\" stroke=\"#0000ff\" d=\"M227.21,-350.62C214.38,-344.64 199.64,-337.37 186.69,-330 171.74,-321.49 155.8,-311.07 142.48,-301.95\"/>\n<polygon fill=\"#0000ff\" stroke=\"#0000ff\" points=\"144.36,-298.99 134.14,-296.17 140.37,-304.74 144.36,-298.99\"/>\n<text text-anchor=\"middle\" x=\"221.19\" y=\"-318.8\" font-family=\"Times New Roman,serif\" font-size=\"14.00\">yes, missing</text>\n</g>\n<!-- 8 -->\n<g id=\"node7\" class=\"node\">\n<title>8</title>\n<ellipse fill=\"none\" stroke=\"black\" cx=\"259.69\" cy=\"-279\" rx=\"55.79\" ry=\"18\"/>\n<text text-anchor=\"middle\" x=\"259.69\" y=\"-275.3\" font-family=\"Times New Roman,serif\" font-size=\"14.00\">ra&lt;134.5811</text>\n</g>\n<!-- 3&#45;&gt;8 -->\n<g id=\"edge6\" class=\"edge\">\n<title>3&#45;&gt;8</title>\n<path fill=\"none\" stroke=\"#ff0000\" d=\"M259.69,-347.8C259.69,-336.16 259.69,-320.55 259.69,-307.24\"/>\n<polygon fill=\"#ff0000\" stroke=\"#ff0000\" points=\"263.19,-307.18 259.69,-297.18 256.19,-307.18 263.19,-307.18\"/>\n<text text-anchor=\"middle\" x=\"266.69\" y=\"-318.8\" font-family=\"Times New Roman,serif\" font-size=\"14.00\">no</text>\n</g>\n<!-- 13 -->\n<g id=\"node8\" class=\"node\">\n<title>13</title>\n<ellipse fill=\"none\" stroke=\"black\" cx=\"89.69\" cy=\"-192\" rx=\"89.88\" ry=\"18\"/>\n<text text-anchor=\"middle\" x=\"89.69\" y=\"-188.3\" font-family=\"Times New Roman,serif\" font-size=\"14.00\">leaf=&#45;7.66345476e&#45;09</text>\n</g>\n<!-- 8&#45;&gt;13 -->\n<g id=\"edge7\" class=\"edge\">\n<title>8&#45;&gt;13</title>\n<path fill=\"none\" stroke=\"#0000ff\" d=\"M229.41,-263.72C216.24,-257.45 200.66,-249.95 186.69,-243 167.8,-233.6 146.98,-222.92 129.5,-213.85\"/>\n<polygon fill=\"#0000ff\" stroke=\"#0000ff\" points=\"130.65,-210.5 120.16,-208.99 127.42,-216.71 130.65,-210.5\"/>\n<text text-anchor=\"middle\" x=\"221.19\" y=\"-231.8\" font-family=\"Times New Roman,serif\" font-size=\"14.00\">yes, missing</text>\n</g>\n<!-- 14 -->\n<g id=\"node9\" class=\"node\">\n<title>14</title>\n<ellipse fill=\"none\" stroke=\"black\" cx=\"259.69\" cy=\"-192\" rx=\"62.29\" ry=\"18\"/>\n<text text-anchor=\"middle\" x=\"259.69\" y=\"-188.3\" font-family=\"Times New Roman,serif\" font-size=\"14.00\">g&lt;17.7675953</text>\n</g>\n<!-- 8&#45;&gt;14 -->\n<g id=\"edge8\" class=\"edge\">\n<title>8&#45;&gt;14</title>\n<path fill=\"none\" stroke=\"#ff0000\" d=\"M259.69,-260.8C259.69,-249.16 259.69,-233.55 259.69,-220.24\"/>\n<polygon fill=\"#ff0000\" stroke=\"#ff0000\" points=\"263.19,-220.18 259.69,-210.18 256.19,-220.18 263.19,-220.18\"/>\n<text text-anchor=\"middle\" x=\"266.69\" y=\"-231.8\" font-family=\"Times New Roman,serif\" font-size=\"14.00\">no</text>\n</g>\n<!-- 23 -->\n<g id=\"node10\" class=\"node\">\n<title>23</title>\n<ellipse fill=\"none\" stroke=\"black\" cx=\"83.69\" cy=\"-105\" rx=\"83.39\" ry=\"18\"/>\n<text text-anchor=\"middle\" x=\"83.69\" y=\"-101.3\" font-family=\"Times New Roman,serif\" font-size=\"14.00\">leaf=&#45;0.0360000096</text>\n</g>\n<!-- 14&#45;&gt;23 -->\n<g id=\"edge9\" class=\"edge\">\n<title>14&#45;&gt;23</title>\n<path fill=\"none\" stroke=\"#0000ff\" d=\"M229.04,-176.19C200.26,-162.3 157,-141.4 125.15,-126.02\"/>\n<polygon fill=\"#0000ff\" stroke=\"#0000ff\" points=\"126.61,-122.84 116.08,-121.64 123.56,-129.14 126.61,-122.84\"/>\n<text text-anchor=\"middle\" x=\"217.19\" y=\"-144.8\" font-family=\"Times New Roman,serif\" font-size=\"14.00\">yes, missing</text>\n</g>\n<!-- 24 -->\n<g id=\"node11\" class=\"node\">\n<title>24</title>\n<ellipse fill=\"none\" stroke=\"black\" cx=\"263.69\" cy=\"-105\" rx=\"78.79\" ry=\"18\"/>\n<text text-anchor=\"middle\" x=\"263.69\" y=\"-101.3\" font-family=\"Times New Roman,serif\" font-size=\"14.00\">leaf=&#45;0.198701322</text>\n</g>\n<!-- 14&#45;&gt;24 -->\n<g id=\"edge10\" class=\"edge\">\n<title>14&#45;&gt;24</title>\n<path fill=\"none\" stroke=\"#ff0000\" d=\"M260.5,-173.8C261.05,-162.16 261.78,-146.55 262.41,-133.24\"/>\n<polygon fill=\"#ff0000\" stroke=\"#ff0000\" points=\"265.91,-133.33 262.88,-123.18 258.92,-133 265.91,-133.33\"/>\n<text text-anchor=\"middle\" x=\"269.69\" y=\"-144.8\" font-family=\"Times New Roman,serif\" font-size=\"14.00\">no</text>\n</g>\n<!-- 9 -->\n<g id=\"node14\" class=\"node\">\n<title>9</title>\n<ellipse fill=\"none\" stroke=\"black\" cx=\"642.69\" cy=\"-279\" rx=\"109.68\" ry=\"18\"/>\n<text text-anchor=\"middle\" x=\"642.69\" y=\"-275.3\" font-family=\"Times New Roman,serif\" font-size=\"14.00\">specobjid&lt;8.12401489e+18</text>\n</g>\n<!-- 5&#45;&gt;9 -->\n<g id=\"edge13\" class=\"edge\">\n<title>5&#45;&gt;9</title>\n<path fill=\"none\" stroke=\"#0000ff\" d=\"M757.01,-349.41C735.08,-336.09 703.28,-316.79 678.78,-301.91\"/>\n<polygon fill=\"#0000ff\" stroke=\"#0000ff\" points=\"680.49,-298.85 670.12,-296.65 676.85,-304.84 680.49,-298.85\"/>\n<text text-anchor=\"middle\" x=\"756.19\" y=\"-318.8\" font-family=\"Times New Roman,serif\" font-size=\"14.00\">yes, missing</text>\n</g>\n<!-- 10 -->\n<g id=\"node15\" class=\"node\">\n<title>10</title>\n<ellipse fill=\"none\" stroke=\"black\" cx=\"831.69\" cy=\"-279\" rx=\"61.19\" ry=\"18\"/>\n<text text-anchor=\"middle\" x=\"831.69\" y=\"-275.3\" font-family=\"Times New Roman,serif\" font-size=\"14.00\">r&lt;19.1767807</text>\n</g>\n<!-- 5&#45;&gt;10 -->\n<g id=\"edge14\" class=\"edge\">\n<title>5&#45;&gt;10</title>\n<path fill=\"none\" stroke=\"#ff0000\" d=\"M792.37,-348.21C799.31,-336.18 808.78,-319.75 816.69,-306.03\"/>\n<polygon fill=\"#ff0000\" stroke=\"#ff0000\" points=\"819.9,-307.46 821.86,-297.05 813.84,-303.96 819.9,-307.46\"/>\n<text text-anchor=\"middle\" x=\"817.69\" y=\"-318.8\" font-family=\"Times New Roman,serif\" font-size=\"14.00\">no</text>\n</g>\n<!-- 11 -->\n<g id=\"node26\" class=\"node\">\n<title>11</title>\n<ellipse fill=\"none\" stroke=\"black\" cx=\"1237.69\" cy=\"-279\" rx=\"62.29\" ry=\"18\"/>\n<text text-anchor=\"middle\" x=\"1237.69\" y=\"-275.3\" font-family=\"Times New Roman,serif\" font-size=\"14.00\">u&lt;17.3859406</text>\n</g>\n<!-- 6&#45;&gt;11 -->\n<g id=\"edge25\" class=\"edge\">\n<title>6&#45;&gt;11</title>\n<path fill=\"none\" stroke=\"#0000ff\" d=\"M1237.69,-347.8C1237.69,-336.16 1237.69,-320.55 1237.69,-307.24\"/>\n<polygon fill=\"#0000ff\" stroke=\"#0000ff\" points=\"1241.19,-307.18 1237.69,-297.18 1234.19,-307.18 1241.19,-307.18\"/>\n<text text-anchor=\"middle\" x=\"1272.19\" y=\"-318.8\" font-family=\"Times New Roman,serif\" font-size=\"14.00\">yes, missing</text>\n</g>\n<!-- 12 -->\n<g id=\"node27\" class=\"node\">\n<title>12</title>\n<ellipse fill=\"none\" stroke=\"black\" cx=\"1465.69\" cy=\"-279\" rx=\"85.29\" ry=\"18\"/>\n<text text-anchor=\"middle\" x=\"1465.69\" y=\"-275.3\" font-family=\"Times New Roman,serif\" font-size=\"14.00\">redshift&lt;0.33613804</text>\n</g>\n<!-- 6&#45;&gt;12 -->\n<g id=\"edge26\" class=\"edge\">\n<title>6&#45;&gt;12</title>\n<path fill=\"none\" stroke=\"#ff0000\" d=\"M1273.82,-351.53C1312.23,-337.21 1373.22,-314.47 1416.11,-298.49\"/>\n<polygon fill=\"#ff0000\" stroke=\"#ff0000\" points=\"1417.36,-301.75 1425.51,-294.98 1414.92,-295.19 1417.36,-301.75\"/>\n<text text-anchor=\"middle\" x=\"1372.69\" y=\"-318.8\" font-family=\"Times New Roman,serif\" font-size=\"14.00\">no</text>\n</g>\n<!-- 15 -->\n<g id=\"node16\" class=\"node\">\n<title>15</title>\n<ellipse fill=\"none\" stroke=\"black\" cx=\"438.69\" cy=\"-192\" rx=\"98.28\" ry=\"18\"/>\n<text text-anchor=\"middle\" x=\"438.69\" y=\"-188.3\" font-family=\"Times New Roman,serif\" font-size=\"14.00\">redshift&lt;0.00456847064</text>\n</g>\n<!-- 9&#45;&gt;15 -->\n<g id=\"edge15\" class=\"edge\">\n<title>9&#45;&gt;15</title>\n<path fill=\"none\" stroke=\"#0000ff\" d=\"M604.32,-262.01C570.74,-248.02 521.82,-227.64 485.86,-212.65\"/>\n<polygon fill=\"#0000ff\" stroke=\"#0000ff\" points=\"487.12,-209.39 476.55,-208.77 484.43,-215.85 487.12,-209.39\"/>\n<text text-anchor=\"middle\" x=\"588.19\" y=\"-231.8\" font-family=\"Times New Roman,serif\" font-size=\"14.00\">yes, missing</text>\n</g>\n<!-- 16 -->\n<g id=\"node17\" class=\"node\">\n<title>16</title>\n<ellipse fill=\"none\" stroke=\"black\" cx=\"644.69\" cy=\"-192\" rx=\"89.88\" ry=\"18\"/>\n<text text-anchor=\"middle\" x=\"644.69\" y=\"-188.3\" font-family=\"Times New Roman,serif\" font-size=\"14.00\">leaf=&#45;7.66345476e&#45;09</text>\n</g>\n<!-- 9&#45;&gt;16 -->\n<g id=\"edge16\" class=\"edge\">\n<title>9&#45;&gt;16</title>\n<path fill=\"none\" stroke=\"#ff0000\" d=\"M643.1,-260.8C643.37,-249.16 643.74,-233.55 644.05,-220.24\"/>\n<polygon fill=\"#ff0000\" stroke=\"#ff0000\" points=\"647.55,-220.26 644.29,-210.18 640.55,-220.09 647.55,-220.26\"/>\n<text text-anchor=\"middle\" x=\"651.69\" y=\"-231.8\" font-family=\"Times New Roman,serif\" font-size=\"14.00\">no</text>\n</g>\n<!-- 17 -->\n<g id=\"node24\" class=\"node\">\n<title>17</title>\n<ellipse fill=\"none\" stroke=\"black\" cx=\"830.69\" cy=\"-192\" rx=\"78.79\" ry=\"18\"/>\n<text text-anchor=\"middle\" x=\"830.69\" y=\"-188.3\" font-family=\"Times New Roman,serif\" font-size=\"14.00\">leaf=&#45;0.155172437</text>\n</g>\n<!-- 10&#45;&gt;17 -->\n<g id=\"edge23\" class=\"edge\">\n<title>10&#45;&gt;17</title>\n<path fill=\"none\" stroke=\"#0000ff\" d=\"M831.49,-260.8C831.35,-249.16 831.17,-233.55 831.01,-220.24\"/>\n<polygon fill=\"#0000ff\" stroke=\"#0000ff\" points=\"834.51,-220.13 830.89,-210.18 827.51,-220.22 834.51,-220.13\"/>\n<text text-anchor=\"middle\" x=\"866.19\" y=\"-231.8\" font-family=\"Times New Roman,serif\" font-size=\"14.00\">yes, missing</text>\n</g>\n<!-- 18 -->\n<g id=\"node25\" class=\"node\">\n<title>18</title>\n<ellipse fill=\"none\" stroke=\"black\" cx=\"1002.69\" cy=\"-192\" rx=\"75.29\" ry=\"18\"/>\n<text text-anchor=\"middle\" x=\"1002.69\" y=\"-188.3\" font-family=\"Times New Roman,serif\" font-size=\"14.00\">leaf=0.257142842</text>\n</g>\n<!-- 10&#45;&gt;18 -->\n<g id=\"edge24\" class=\"edge\">\n<title>10&#45;&gt;18</title>\n<path fill=\"none\" stroke=\"#ff0000\" d=\"M862.68,-263.35C875.69,-257.15 890.96,-249.79 904.69,-243 924.08,-233.41 945.5,-222.52 963.35,-213.35\"/>\n<polygon fill=\"#ff0000\" stroke=\"#ff0000\" points=\"965.04,-216.42 972.33,-208.73 961.84,-210.19 965.04,-216.42\"/>\n<text text-anchor=\"middle\" x=\"941.69\" y=\"-231.8\" font-family=\"Times New Roman,serif\" font-size=\"14.00\">no</text>\n</g>\n<!-- 25 -->\n<g id=\"node18\" class=\"node\">\n<title>25</title>\n<ellipse fill=\"none\" stroke=\"black\" cx=\"429.69\" cy=\"-105\" rx=\"57.69\" ry=\"18\"/>\n<text text-anchor=\"middle\" x=\"429.69\" y=\"-101.3\" font-family=\"Times New Roman,serif\" font-size=\"14.00\">u&lt;17.655014</text>\n</g>\n<!-- 15&#45;&gt;25 -->\n<g id=\"edge17\" class=\"edge\">\n<title>15&#45;&gt;25</title>\n<path fill=\"none\" stroke=\"#0000ff\" d=\"M436.87,-173.8C435.64,-162.16 433.99,-146.55 432.58,-133.24\"/>\n<polygon fill=\"#0000ff\" stroke=\"#0000ff\" points=\"436.04,-132.75 431.51,-123.18 429.08,-133.49 436.04,-132.75\"/>\n<text text-anchor=\"middle\" x=\"470.19\" y=\"-144.8\" font-family=\"Times New Roman,serif\" font-size=\"14.00\">yes, missing</text>\n</g>\n<!-- 26 -->\n<g id=\"node19\" class=\"node\">\n<title>26</title>\n<ellipse fill=\"none\" stroke=\"black\" cx=\"601.69\" cy=\"-105\" rx=\"89.08\" ry=\"18\"/>\n<text text-anchor=\"middle\" x=\"601.69\" y=\"-101.3\" font-family=\"Times New Roman,serif\" font-size=\"14.00\">redshift&lt;0.171373039</text>\n</g>\n<!-- 15&#45;&gt;26 -->\n<g id=\"edge18\" class=\"edge\">\n<title>15&#45;&gt;26</title>\n<path fill=\"none\" stroke=\"#ff0000\" d=\"M471.2,-174.99C483.04,-169.1 496.51,-162.32 508.69,-156 526.68,-146.67 546.47,-136.08 563.16,-127.05\"/>\n<polygon fill=\"#ff0000\" stroke=\"#ff0000\" points=\"564.95,-130.06 572.07,-122.21 561.61,-123.9 564.95,-130.06\"/>\n<text text-anchor=\"middle\" x=\"544.69\" y=\"-144.8\" font-family=\"Times New Roman,serif\" font-size=\"14.00\">no</text>\n</g>\n<!-- 33 -->\n<g id=\"node20\" class=\"node\">\n<title>33</title>\n<ellipse fill=\"none\" stroke=\"black\" cx=\"257.69\" cy=\"-18\" rx=\"75.29\" ry=\"18\"/>\n<text text-anchor=\"middle\" x=\"257.69\" y=\"-14.3\" font-family=\"Times New Roman,serif\" font-size=\"14.00\">leaf=0.310344815</text>\n</g>\n<!-- 25&#45;&gt;33 -->\n<g id=\"edge19\" class=\"edge\">\n<title>25&#45;&gt;33</title>\n<path fill=\"none\" stroke=\"#0000ff\" d=\"M399.08,-89.49C385.99,-83.25 370.56,-75.83 356.69,-69 337.13,-59.37 315.49,-48.47 297.46,-39.32\"/>\n<polygon fill=\"#0000ff\" stroke=\"#0000ff\" points=\"298.88,-36.12 288.38,-34.7 295.71,-42.36 298.88,-36.12\"/>\n<text text-anchor=\"middle\" x=\"391.19\" y=\"-57.8\" font-family=\"Times New Roman,serif\" font-size=\"14.00\">yes, missing</text>\n</g>\n<!-- 34 -->\n<g id=\"node21\" class=\"node\">\n<title>34</title>\n<ellipse fill=\"none\" stroke=\"black\" cx=\"429.69\" cy=\"-18\" rx=\"78.79\" ry=\"18\"/>\n<text text-anchor=\"middle\" x=\"429.69\" y=\"-14.3\" font-family=\"Times New Roman,serif\" font-size=\"14.00\">leaf=&#45;0.128571451</text>\n</g>\n<!-- 25&#45;&gt;34 -->\n<g id=\"edge20\" class=\"edge\">\n<title>25&#45;&gt;34</title>\n<path fill=\"none\" stroke=\"#ff0000\" d=\"M429.69,-86.8C429.69,-75.16 429.69,-59.55 429.69,-46.24\"/>\n<polygon fill=\"#ff0000\" stroke=\"#ff0000\" points=\"433.19,-46.18 429.69,-36.18 426.19,-46.18 433.19,-46.18\"/>\n<text text-anchor=\"middle\" x=\"436.69\" y=\"-57.8\" font-family=\"Times New Roman,serif\" font-size=\"14.00\">no</text>\n</g>\n<!-- 35 -->\n<g id=\"node22\" class=\"node\">\n<title>35</title>\n<ellipse fill=\"none\" stroke=\"black\" cx=\"601.69\" cy=\"-18\" rx=\"75.29\" ry=\"18\"/>\n<text text-anchor=\"middle\" x=\"601.69\" y=\"-14.3\" font-family=\"Times New Roman,serif\" font-size=\"14.00\">leaf=0.444772422</text>\n</g>\n<!-- 26&#45;&gt;35 -->\n<g id=\"edge21\" class=\"edge\">\n<title>26&#45;&gt;35</title>\n<path fill=\"none\" stroke=\"#0000ff\" d=\"M601.69,-86.8C601.69,-75.16 601.69,-59.55 601.69,-46.24\"/>\n<polygon fill=\"#0000ff\" stroke=\"#0000ff\" points=\"605.19,-46.18 601.69,-36.18 598.19,-46.18 605.19,-46.18\"/>\n<text text-anchor=\"middle\" x=\"636.19\" y=\"-57.8\" font-family=\"Times New Roman,serif\" font-size=\"14.00\">yes, missing</text>\n</g>\n<!-- 36 -->\n<g id=\"node23\" class=\"node\">\n<title>36</title>\n<ellipse fill=\"none\" stroke=\"black\" cx=\"770.69\" cy=\"-18\" rx=\"75.29\" ry=\"18\"/>\n<text text-anchor=\"middle\" x=\"770.69\" y=\"-14.3\" font-family=\"Times New Roman,serif\" font-size=\"14.00\">leaf=0.324000031</text>\n</g>\n<!-- 26&#45;&gt;36 -->\n<g id=\"edge22\" class=\"edge\">\n<title>26&#45;&gt;36</title>\n<path fill=\"none\" stroke=\"#ff0000\" d=\"M635.24,-88.2C647.68,-82.27 661.87,-75.41 674.69,-69 693.55,-59.57 714.33,-48.8 731.71,-39.68\"/>\n<polygon fill=\"#ff0000\" stroke=\"#ff0000\" points=\"733.76,-42.55 740.98,-34.8 730.51,-36.35 733.76,-42.55\"/>\n<text text-anchor=\"middle\" x=\"711.69\" y=\"-57.8\" font-family=\"Times New Roman,serif\" font-size=\"14.00\">no</text>\n</g>\n<!-- 19 -->\n<g id=\"node28\" class=\"node\">\n<title>19</title>\n<ellipse fill=\"none\" stroke=\"black\" cx=\"1156.69\" cy=\"-192\" rx=\"60.39\" ry=\"18\"/>\n<text text-anchor=\"middle\" x=\"1156.69\" y=\"-188.3\" font-family=\"Times New Roman,serif\" font-size=\"14.00\">i&lt;16.5243149</text>\n</g>\n<!-- 11&#45;&gt;19 -->\n<g id=\"edge27\" class=\"edge\">\n<title>11&#45;&gt;19</title>\n<path fill=\"none\" stroke=\"#0000ff\" d=\"M1217.98,-261.88C1211.32,-256.15 1203.98,-249.5 1197.69,-243 1190.08,-235.14 1182.32,-226.01 1175.62,-217.72\"/>\n<polygon fill=\"#0000ff\" stroke=\"#0000ff\" points=\"1178.29,-215.45 1169.33,-209.8 1172.81,-219.8 1178.29,-215.45\"/>\n<text text-anchor=\"middle\" x=\"1232.19\" y=\"-231.8\" font-family=\"Times New Roman,serif\" font-size=\"14.00\">yes, missing</text>\n</g>\n<!-- 20 -->\n<g id=\"node29\" class=\"node\">\n<title>20</title>\n<ellipse fill=\"none\" stroke=\"black\" cx=\"1310.69\" cy=\"-192\" rx=\"75.29\" ry=\"18\"/>\n<text text-anchor=\"middle\" x=\"1310.69\" y=\"-188.3\" font-family=\"Times New Roman,serif\" font-size=\"14.00\">leaf=0.267567575</text>\n</g>\n<!-- 11&#45;&gt;20 -->\n<g id=\"edge28\" class=\"edge\">\n<title>11&#45;&gt;20</title>\n<path fill=\"none\" stroke=\"#ff0000\" d=\"M1252.11,-261.21C1262.81,-248.75 1277.56,-231.57 1289.59,-217.57\"/>\n<polygon fill=\"#ff0000\" stroke=\"#ff0000\" points=\"1292.44,-219.63 1296.3,-209.76 1287.13,-215.06 1292.44,-219.63\"/>\n<text text-anchor=\"middle\" x=\"1285.69\" y=\"-231.8\" font-family=\"Times New Roman,serif\" font-size=\"14.00\">no</text>\n</g>\n<!-- 21 -->\n<g id=\"node32\" class=\"node\">\n<title>21</title>\n<ellipse fill=\"none\" stroke=\"black\" cx=\"1465.69\" cy=\"-192\" rx=\"55.79\" ry=\"18\"/>\n<text text-anchor=\"middle\" x=\"1465.69\" y=\"-188.3\" font-family=\"Times New Roman,serif\" font-size=\"14.00\">i&lt;18.885704</text>\n</g>\n<!-- 12&#45;&gt;21 -->\n<g id=\"edge31\" class=\"edge\">\n<title>12&#45;&gt;21</title>\n<path fill=\"none\" stroke=\"#0000ff\" d=\"M1465.69,-260.8C1465.69,-249.16 1465.69,-233.55 1465.69,-220.24\"/>\n<polygon fill=\"#0000ff\" stroke=\"#0000ff\" points=\"1469.19,-220.18 1465.69,-210.18 1462.19,-220.18 1469.19,-220.18\"/>\n<text text-anchor=\"middle\" x=\"1500.19\" y=\"-231.8\" font-family=\"Times New Roman,serif\" font-size=\"14.00\">yes, missing</text>\n</g>\n<!-- 22 -->\n<g id=\"node33\" class=\"node\">\n<title>22</title>\n<ellipse fill=\"none\" stroke=\"black\" cx=\"1627.69\" cy=\"-192\" rx=\"60.39\" ry=\"18\"/>\n<text text-anchor=\"middle\" x=\"1627.69\" y=\"-188.3\" font-family=\"Times New Roman,serif\" font-size=\"14.00\">i&lt;19.6844215</text>\n</g>\n<!-- 12&#45;&gt;22 -->\n<g id=\"edge32\" class=\"edge\">\n<title>12&#45;&gt;22</title>\n<path fill=\"none\" stroke=\"#ff0000\" d=\"M1499.35,-262.42C1511.8,-256.51 1525.97,-249.61 1538.69,-243 1556.57,-233.71 1576.12,-222.81 1592.33,-213.56\"/>\n<polygon fill=\"#ff0000\" stroke=\"#ff0000\" points=\"1594.52,-216.34 1601.46,-208.33 1591.04,-210.27 1594.52,-216.34\"/>\n<text text-anchor=\"middle\" x=\"1573.69\" y=\"-231.8\" font-family=\"Times New Roman,serif\" font-size=\"14.00\">no</text>\n</g>\n<!-- 27 -->\n<g id=\"node30\" class=\"node\">\n<title>27</title>\n<ellipse fill=\"none\" stroke=\"black\" cx=\"979.69\" cy=\"-105\" rx=\"79.89\" ry=\"18\"/>\n<text text-anchor=\"middle\" x=\"979.69\" y=\"-101.3\" font-family=\"Times New Roman,serif\" font-size=\"14.00\">leaf=0.0719999969</text>\n</g>\n<!-- 19&#45;&gt;27 -->\n<g id=\"edge29\" class=\"edge\">\n<title>19&#45;&gt;27</title>\n<path fill=\"none\" stroke=\"#0000ff\" d=\"M1126.14,-176.36C1113.07,-170.09 1097.63,-162.69 1083.69,-156 1063.05,-146.09 1040.11,-135.06 1021.04,-125.89\"/>\n<polygon fill=\"#0000ff\" stroke=\"#0000ff\" points=\"1022.54,-122.73 1012.01,-121.55 1019.51,-129.04 1022.54,-122.73\"/>\n<text text-anchor=\"middle\" x=\"1118.19\" y=\"-144.8\" font-family=\"Times New Roman,serif\" font-size=\"14.00\">yes, missing</text>\n</g>\n<!-- 28 -->\n<g id=\"node31\" class=\"node\">\n<title>28</title>\n<ellipse fill=\"none\" stroke=\"black\" cx=\"1156.69\" cy=\"-105\" rx=\"78.79\" ry=\"18\"/>\n<text text-anchor=\"middle\" x=\"1156.69\" y=\"-101.3\" font-family=\"Times New Roman,serif\" font-size=\"14.00\">leaf=&#45;0.155172437</text>\n</g>\n<!-- 19&#45;&gt;28 -->\n<g id=\"edge30\" class=\"edge\">\n<title>19&#45;&gt;28</title>\n<path fill=\"none\" stroke=\"#ff0000\" d=\"M1156.69,-173.8C1156.69,-162.16 1156.69,-146.55 1156.69,-133.24\"/>\n<polygon fill=\"#ff0000\" stroke=\"#ff0000\" points=\"1160.19,-133.18 1156.69,-123.18 1153.19,-133.18 1160.19,-133.18\"/>\n<text text-anchor=\"middle\" x=\"1163.69\" y=\"-144.8\" font-family=\"Times New Roman,serif\" font-size=\"14.00\">no</text>\n</g>\n<!-- 29 -->\n<g id=\"node34\" class=\"node\">\n<title>29</title>\n<ellipse fill=\"none\" stroke=\"black\" cx=\"1315.69\" cy=\"-105\" rx=\"62.29\" ry=\"18\"/>\n<text text-anchor=\"middle\" x=\"1315.69\" y=\"-101.3\" font-family=\"Times New Roman,serif\" font-size=\"14.00\">u&lt;19.0110741</text>\n</g>\n<!-- 21&#45;&gt;29 -->\n<g id=\"edge33\" class=\"edge\">\n<title>21&#45;&gt;29</title>\n<path fill=\"none\" stroke=\"#0000ff\" d=\"M1435.73,-176.8C1423.22,-170.66 1408.61,-163.24 1395.69,-156 1379.72,-147.04 1362.44,-136.37 1348.04,-127.2\"/>\n<polygon fill=\"#0000ff\" stroke=\"#0000ff\" points=\"1349.79,-124.16 1339.49,-121.7 1346.01,-130.05 1349.79,-124.16\"/>\n<text text-anchor=\"middle\" x=\"1430.19\" y=\"-144.8\" font-family=\"Times New Roman,serif\" font-size=\"14.00\">yes, missing</text>\n</g>\n<!-- 30 -->\n<g id=\"node35\" class=\"node\">\n<title>30</title>\n<ellipse fill=\"none\" stroke=\"black\" cx=\"1471.69\" cy=\"-105\" rx=\"75.29\" ry=\"18\"/>\n<text text-anchor=\"middle\" x=\"1471.69\" y=\"-101.3\" font-family=\"Times New Roman,serif\" font-size=\"14.00\">leaf=0.257142842</text>\n</g>\n<!-- 21&#45;&gt;30 -->\n<g id=\"edge34\" class=\"edge\">\n<title>21&#45;&gt;30</title>\n<path fill=\"none\" stroke=\"#ff0000\" d=\"M1466.91,-173.8C1467.73,-162.16 1468.83,-146.55 1469.77,-133.24\"/>\n<polygon fill=\"#ff0000\" stroke=\"#ff0000\" points=\"1473.27,-133.4 1470.48,-123.18 1466.28,-132.9 1473.27,-133.4\"/>\n<text text-anchor=\"middle\" x=\"1476.69\" y=\"-144.8\" font-family=\"Times New Roman,serif\" font-size=\"14.00\">no</text>\n</g>\n<!-- 31 -->\n<g id=\"node38\" class=\"node\">\n<title>31</title>\n<ellipse fill=\"none\" stroke=\"black\" cx=\"1627.69\" cy=\"-105\" rx=\"62.29\" ry=\"18\"/>\n<text text-anchor=\"middle\" x=\"1627.69\" y=\"-101.3\" font-family=\"Times New Roman,serif\" font-size=\"14.00\">u&lt;19.5775356</text>\n</g>\n<!-- 22&#45;&gt;31 -->\n<g id=\"edge37\" class=\"edge\">\n<title>22&#45;&gt;31</title>\n<path fill=\"none\" stroke=\"#0000ff\" d=\"M1627.69,-173.8C1627.69,-162.16 1627.69,-146.55 1627.69,-133.24\"/>\n<polygon fill=\"#0000ff\" stroke=\"#0000ff\" points=\"1631.19,-133.18 1627.69,-123.18 1624.19,-133.18 1631.19,-133.18\"/>\n<text text-anchor=\"middle\" x=\"1662.19\" y=\"-144.8\" font-family=\"Times New Roman,serif\" font-size=\"14.00\">yes, missing</text>\n</g>\n<!-- 32 -->\n<g id=\"node39\" class=\"node\">\n<title>32</title>\n<ellipse fill=\"none\" stroke=\"black\" cx=\"1797.69\" cy=\"-105\" rx=\"89.88\" ry=\"18\"/>\n<text text-anchor=\"middle\" x=\"1797.69\" y=\"-101.3\" font-family=\"Times New Roman,serif\" font-size=\"14.00\">leaf=&#45;7.66345476e&#45;09</text>\n</g>\n<!-- 22&#45;&gt;32 -->\n<g id=\"edge38\" class=\"edge\">\n<title>22&#45;&gt;32</title>\n<path fill=\"none\" stroke=\"#ff0000\" d=\"M1658.69,-176.38C1671.7,-170.18 1686.97,-162.82 1700.69,-156 1719.59,-146.6 1740.4,-135.92 1757.89,-126.85\"/>\n<polygon fill=\"#ff0000\" stroke=\"#ff0000\" points=\"1759.97,-129.71 1767.23,-121.99 1756.74,-123.5 1759.97,-129.71\"/>\n<text text-anchor=\"middle\" x=\"1737.69\" y=\"-144.8\" font-family=\"Times New Roman,serif\" font-size=\"14.00\">no</text>\n</g>\n<!-- 37 -->\n<g id=\"node36\" class=\"node\">\n<title>37</title>\n<ellipse fill=\"none\" stroke=\"black\" cx=\"1163.69\" cy=\"-18\" rx=\"78.79\" ry=\"18\"/>\n<text text-anchor=\"middle\" x=\"1163.69\" y=\"-14.3\" font-family=\"Times New Roman,serif\" font-size=\"14.00\">leaf=&#45;0.208800018</text>\n</g>\n<!-- 29&#45;&gt;37 -->\n<g id=\"edge35\" class=\"edge\">\n<title>29&#45;&gt;37</title>\n<path fill=\"none\" stroke=\"#0000ff\" d=\"M1288.17,-88.61C1263.72,-74.94 1227.8,-54.85 1200.82,-39.76\"/>\n<polygon fill=\"#0000ff\" stroke=\"#0000ff\" points=\"1202.48,-36.68 1192.04,-34.85 1199.06,-42.79 1202.48,-36.68\"/>\n<text text-anchor=\"middle\" x=\"1284.19\" y=\"-57.8\" font-family=\"Times New Roman,serif\" font-size=\"14.00\">yes, missing</text>\n</g>\n<!-- 38 -->\n<g id=\"node37\" class=\"node\">\n<title>38</title>\n<ellipse fill=\"none\" stroke=\"black\" cx=\"1347.69\" cy=\"-18\" rx=\"87.18\" ry=\"18\"/>\n<text text-anchor=\"middle\" x=\"1347.69\" y=\"-14.3\" font-family=\"Times New Roman,serif\" font-size=\"14.00\">leaf=&#45;0.00927836355</text>\n</g>\n<!-- 29&#45;&gt;38 -->\n<g id=\"edge36\" class=\"edge\">\n<title>29&#45;&gt;38</title>\n<path fill=\"none\" stroke=\"#ff0000\" d=\"M1322.17,-86.8C1326.59,-75.05 1332.54,-59.24 1337.59,-45.84\"/>\n<polygon fill=\"#ff0000\" stroke=\"#ff0000\" points=\"1340.98,-46.77 1341.23,-36.18 1334.43,-44.3 1340.98,-46.77\"/>\n<text text-anchor=\"middle\" x=\"1340.69\" y=\"-57.8\" font-family=\"Times New Roman,serif\" font-size=\"14.00\">no</text>\n</g>\n<!-- 39 -->\n<g id=\"node40\" class=\"node\">\n<title>39</title>\n<ellipse fill=\"none\" stroke=\"black\" cx=\"1595.69\" cy=\"-18\" rx=\"78.79\" ry=\"18\"/>\n<text text-anchor=\"middle\" x=\"1595.69\" y=\"-14.3\" font-family=\"Times New Roman,serif\" font-size=\"14.00\">leaf=&#45;0.221626565</text>\n</g>\n<!-- 31&#45;&gt;39 -->\n<g id=\"edge39\" class=\"edge\">\n<title>31&#45;&gt;39</title>\n<path fill=\"none\" stroke=\"#0000ff\" d=\"M1621.22,-86.8C1616.79,-75.05 1610.84,-59.24 1605.8,-45.84\"/>\n<polygon fill=\"#0000ff\" stroke=\"#0000ff\" points=\"1608.96,-44.3 1602.16,-36.18 1602.41,-46.77 1608.96,-44.3\"/>\n<text text-anchor=\"middle\" x=\"1648.19\" y=\"-57.8\" font-family=\"Times New Roman,serif\" font-size=\"14.00\">yes, missing</text>\n</g>\n<!-- 40 -->\n<g id=\"node41\" class=\"node\">\n<title>40</title>\n<ellipse fill=\"none\" stroke=\"black\" cx=\"1770.69\" cy=\"-18\" rx=\"78.79\" ry=\"18\"/>\n<text text-anchor=\"middle\" x=\"1770.69\" y=\"-14.3\" font-family=\"Times New Roman,serif\" font-size=\"14.00\">leaf=&#45;0.123287685</text>\n</g>\n<!-- 31&#45;&gt;40 -->\n<g id=\"edge40\" class=\"edge\">\n<title>31&#45;&gt;40</title>\n<path fill=\"none\" stroke=\"#ff0000\" d=\"M1653.84,-88.5C1664.08,-82.42 1675.94,-75.39 1686.69,-69 1702.52,-59.59 1720.02,-49.18 1734.93,-40.3\"/>\n<polygon fill=\"#ff0000\" stroke=\"#ff0000\" points=\"1737.04,-43.12 1743.84,-35 1733.46,-37.11 1737.04,-43.12\"/>\n<text text-anchor=\"middle\" x=\"1717.69\" y=\"-57.8\" font-family=\"Times New Roman,serif\" font-size=\"14.00\">no</text>\n</g>\n</g>\n</svg>\n",
      "text/plain": [
       "<graphviz.sources.Source at 0x23538177e50>"
      ]
     },
     "execution_count": 39,
     "metadata": {},
     "output_type": "execute_result"
    }
   ],
   "source": [
    "# XGBoost is a tree based ensemble model, it is always a good idea to visualize the tree to see how the model is making the predictions.\n",
    "# Use xgb.to_graphviz to visualize the tree and save it as a png file.\n",
    "#xgb.plot_tree(model2, num_trees=0)\n",
    "xgb.to_graphviz(model2, num_trees=0)"
   ]
  }
 ],
 "metadata": {
  "kernelspec": {
   "display_name": "Python 3.8.13 ('intro-ai')",
   "language": "python",
   "name": "python3"
  },
  "language_info": {
   "codemirror_mode": {
    "name": "ipython",
    "version": 3
   },
   "file_extension": ".py",
   "mimetype": "text/x-python",
   "name": "python",
   "nbconvert_exporter": "python",
   "pygments_lexer": "ipython3",
   "version": "3.8.13"
  },
  "orig_nbformat": 4,
  "vscode": {
   "interpreter": {
    "hash": "5fe2d6c4b2abc7dfab57cce395f428f55641aed2a36b945e3a1cc68328245aba"
   }
  }
 },
 "nbformat": 4,
 "nbformat_minor": 2
}
